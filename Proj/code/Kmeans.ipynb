{
 "cells": [
  {
   "cell_type": "code",
   "execution_count": 1,
   "id": "0439b927-9967-4029-9c92-bbac18f6957d",
   "metadata": {},
   "outputs": [],
   "source": [
    "from http.server import SimpleHTTPRequestHandler, HTTPServer\n",
    "from urllib import request,error\n",
    "import pandas as pd\n",
    "from pycaret.clustering import *\n",
    "import urllib.parse\n",
    "import sys\n",
    "badwords = ['sleep', 'drop', 'uid', 'select', 'waitfor', 'delay', 'system', 'union', 'order by', 'group by']\n",
    "def ExtractFeatures(path):\n",
    "    path = urllib.parse.unquote(path)\n",
    "    badwords_count=0\n",
    "    single_q = path.count(\"'\")\n",
    "    double_q = path.count(\"\\\"\")\n",
    "    dashes = path.count(\"--\")\n",
    "    braces = path.count(\"(\")\n",
    "    spaces = path.count(\" \")\n",
    "    for word in badwords:\n",
    "        badwords_count += path.count(word)\n",
    "    lst = [single_q, double_q, dashes, braces, spaces, badwords_count]\n",
    "    print (lst)\n",
    "    return pd.DataFrame([lst],columns = ['single_q', 'double_q', 'dashes', 'braces', 'spaces', 'badwords'])\n",
    "        "
   ]
  },
  {
   "cell_type": "code",
   "execution_count": 2,
   "id": "07864210-d973-4676-8f66-276305c83be1",
   "metadata": {},
   "outputs": [
    {
     "data": {
      "text/html": [
       "<style type=\"text/css\">\n",
       "#T_1b61a_row6_col1 {\n",
       "  background-color: lightgreen;\n",
       "}\n",
       "</style>\n",
       "<table id=\"T_1b61a\">\n",
       "  <thead>\n",
       "    <tr>\n",
       "      <th class=\"blank level0\" >&nbsp;</th>\n",
       "      <th id=\"T_1b61a_level0_col0\" class=\"col_heading level0 col0\" >Description</th>\n",
       "      <th id=\"T_1b61a_level0_col1\" class=\"col_heading level0 col1\" >Value</th>\n",
       "    </tr>\n",
       "  </thead>\n",
       "  <tbody>\n",
       "    <tr>\n",
       "      <th id=\"T_1b61a_level0_row0\" class=\"row_heading level0 row0\" >0</th>\n",
       "      <td id=\"T_1b61a_row0_col0\" class=\"data row0 col0\" >Session id</td>\n",
       "      <td id=\"T_1b61a_row0_col1\" class=\"data row0 col1\" >6333</td>\n",
       "    </tr>\n",
       "    <tr>\n",
       "      <th id=\"T_1b61a_level0_row1\" class=\"row_heading level0 row1\" >1</th>\n",
       "      <td id=\"T_1b61a_row1_col0\" class=\"data row1 col0\" >Original data shape</td>\n",
       "      <td id=\"T_1b61a_row1_col1\" class=\"data row1 col1\" >(923, 10)</td>\n",
       "    </tr>\n",
       "    <tr>\n",
       "      <th id=\"T_1b61a_level0_row2\" class=\"row_heading level0 row2\" >2</th>\n",
       "      <td id=\"T_1b61a_row2_col0\" class=\"data row2 col0\" >Transformed data shape</td>\n",
       "      <td id=\"T_1b61a_row2_col1\" class=\"data row2 col1\" >(923, 6)</td>\n",
       "    </tr>\n",
       "    <tr>\n",
       "      <th id=\"T_1b61a_level0_row3\" class=\"row_heading level0 row3\" >3</th>\n",
       "      <td id=\"T_1b61a_row3_col0\" class=\"data row3 col0\" >Ignore features</td>\n",
       "      <td id=\"T_1b61a_row3_col1\" class=\"data row3 col1\" >4</td>\n",
       "    </tr>\n",
       "    <tr>\n",
       "      <th id=\"T_1b61a_level0_row4\" class=\"row_heading level0 row4\" >4</th>\n",
       "      <td id=\"T_1b61a_row4_col0\" class=\"data row4 col0\" >Numeric features</td>\n",
       "      <td id=\"T_1b61a_row4_col1\" class=\"data row4 col1\" >6</td>\n",
       "    </tr>\n",
       "    <tr>\n",
       "      <th id=\"T_1b61a_level0_row5\" class=\"row_heading level0 row5\" >5</th>\n",
       "      <td id=\"T_1b61a_row5_col0\" class=\"data row5 col0\" >Rows with missing values</td>\n",
       "      <td id=\"T_1b61a_row5_col1\" class=\"data row5 col1\" >51.9%</td>\n",
       "    </tr>\n",
       "    <tr>\n",
       "      <th id=\"T_1b61a_level0_row6\" class=\"row_heading level0 row6\" >6</th>\n",
       "      <td id=\"T_1b61a_row6_col0\" class=\"data row6 col0\" >Preprocess</td>\n",
       "      <td id=\"T_1b61a_row6_col1\" class=\"data row6 col1\" >True</td>\n",
       "    </tr>\n",
       "    <tr>\n",
       "      <th id=\"T_1b61a_level0_row7\" class=\"row_heading level0 row7\" >7</th>\n",
       "      <td id=\"T_1b61a_row7_col0\" class=\"data row7 col0\" >Imputation type</td>\n",
       "      <td id=\"T_1b61a_row7_col1\" class=\"data row7 col1\" >simple</td>\n",
       "    </tr>\n",
       "    <tr>\n",
       "      <th id=\"T_1b61a_level0_row8\" class=\"row_heading level0 row8\" >8</th>\n",
       "      <td id=\"T_1b61a_row8_col0\" class=\"data row8 col0\" >Numeric imputation</td>\n",
       "      <td id=\"T_1b61a_row8_col1\" class=\"data row8 col1\" >mean</td>\n",
       "    </tr>\n",
       "    <tr>\n",
       "      <th id=\"T_1b61a_level0_row9\" class=\"row_heading level0 row9\" >9</th>\n",
       "      <td id=\"T_1b61a_row9_col0\" class=\"data row9 col0\" >Categorical imputation</td>\n",
       "      <td id=\"T_1b61a_row9_col1\" class=\"data row9 col1\" >mode</td>\n",
       "    </tr>\n",
       "    <tr>\n",
       "      <th id=\"T_1b61a_level0_row10\" class=\"row_heading level0 row10\" >10</th>\n",
       "      <td id=\"T_1b61a_row10_col0\" class=\"data row10 col0\" >CPU Jobs</td>\n",
       "      <td id=\"T_1b61a_row10_col1\" class=\"data row10 col1\" >-1</td>\n",
       "    </tr>\n",
       "    <tr>\n",
       "      <th id=\"T_1b61a_level0_row11\" class=\"row_heading level0 row11\" >11</th>\n",
       "      <td id=\"T_1b61a_row11_col0\" class=\"data row11 col0\" >Use GPU</td>\n",
       "      <td id=\"T_1b61a_row11_col1\" class=\"data row11 col1\" >False</td>\n",
       "    </tr>\n",
       "    <tr>\n",
       "      <th id=\"T_1b61a_level0_row12\" class=\"row_heading level0 row12\" >12</th>\n",
       "      <td id=\"T_1b61a_row12_col0\" class=\"data row12 col0\" >Log Experiment</td>\n",
       "      <td id=\"T_1b61a_row12_col1\" class=\"data row12 col1\" >False</td>\n",
       "    </tr>\n",
       "    <tr>\n",
       "      <th id=\"T_1b61a_level0_row13\" class=\"row_heading level0 row13\" >13</th>\n",
       "      <td id=\"T_1b61a_row13_col0\" class=\"data row13 col0\" >Experiment Name</td>\n",
       "      <td id=\"T_1b61a_row13_col1\" class=\"data row13 col1\" >cluster-default-name</td>\n",
       "    </tr>\n",
       "    <tr>\n",
       "      <th id=\"T_1b61a_level0_row14\" class=\"row_heading level0 row14\" >14</th>\n",
       "      <td id=\"T_1b61a_row14_col0\" class=\"data row14 col0\" >USI</td>\n",
       "      <td id=\"T_1b61a_row14_col1\" class=\"data row14 col1\" >4a7f</td>\n",
       "    </tr>\n",
       "  </tbody>\n",
       "</table>\n"
      ],
      "text/plain": [
       "<pandas.io.formats.style.Styler at 0x214f25db110>"
      ]
     },
     "metadata": {},
     "output_type": "display_data"
    },
    {
     "data": {
      "text/html": [],
      "text/plain": [
       "<IPython.core.display.HTML object>"
      ]
     },
     "metadata": {},
     "output_type": "display_data"
    },
    {
     "data": {
      "text/html": [
       "<style type=\"text/css\">\n",
       "</style>\n",
       "<table id=\"T_a3a99\">\n",
       "  <thead>\n",
       "    <tr>\n",
       "      <th class=\"blank level0\" >&nbsp;</th>\n",
       "      <th id=\"T_a3a99_level0_col0\" class=\"col_heading level0 col0\" >Silhouette</th>\n",
       "      <th id=\"T_a3a99_level0_col1\" class=\"col_heading level0 col1\" >Calinski-Harabasz</th>\n",
       "      <th id=\"T_a3a99_level0_col2\" class=\"col_heading level0 col2\" >Davies-Bouldin</th>\n",
       "      <th id=\"T_a3a99_level0_col3\" class=\"col_heading level0 col3\" >Homogeneity</th>\n",
       "      <th id=\"T_a3a99_level0_col4\" class=\"col_heading level0 col4\" >Rand Index</th>\n",
       "      <th id=\"T_a3a99_level0_col5\" class=\"col_heading level0 col5\" >Completeness</th>\n",
       "    </tr>\n",
       "  </thead>\n",
       "  <tbody>\n",
       "    <tr>\n",
       "      <th id=\"T_a3a99_level0_row0\" class=\"row_heading level0 row0\" >0</th>\n",
       "      <td id=\"T_a3a99_row0_col0\" class=\"data row0 col0\" >0.6067</td>\n",
       "      <td id=\"T_a3a99_row0_col1\" class=\"data row0 col1\" >507.7275</td>\n",
       "      <td id=\"T_a3a99_row0_col2\" class=\"data row0 col2\" >0.8938</td>\n",
       "      <td id=\"T_a3a99_row0_col3\" class=\"data row0 col3\" >0</td>\n",
       "      <td id=\"T_a3a99_row0_col4\" class=\"data row0 col4\" >0</td>\n",
       "      <td id=\"T_a3a99_row0_col5\" class=\"data row0 col5\" >0</td>\n",
       "    </tr>\n",
       "  </tbody>\n",
       "</table>\n"
      ],
      "text/plain": [
       "<pandas.io.formats.style.Styler at 0x214f25f5e50>"
      ]
     },
     "metadata": {},
     "output_type": "display_data"
    },
    {
     "data": {
      "text/html": [],
      "text/plain": [
       "<IPython.core.display.HTML object>"
      ]
     },
     "metadata": {},
     "output_type": "display_data"
    }
   ],
   "source": [
    "http = pd.read_csv(r'C:\\Users\\utkar\\Desktop\\cn proj\\burp\\final.csv')\n",
    "clu1 = setup(data = http,session_id=6333, numeric_features = ['single_q', 'double_q', 'dashes', 'braces', 'spaces', 'badwords'], ignore_features = ['method','path','body','class'])\n",
    "kmeans = create_model('kmeans', num_clusters=2)"
   ]
  },
  {
   "cell_type": "code",
   "execution_count": null,
   "id": "475246c3-63b9-4a6c-ae63-18ca6cd95087",
   "metadata": {},
   "outputs": [],
   "source": [
    "result = predi"
   ]
  },
  {
   "cell_type": "code",
   "execution_count": null,
   "id": "c2a97fbb-0a05-4894-8aae-b476944c84d5",
   "metadata": {
    "scrolled": true
   },
   "outputs": [
    {
     "name": "stdout",
     "output_type": "stream",
     "text": [
      "Listening on http://127.0.0.1:8090\n"
     ]
    },
    {
     "name": "stderr",
     "output_type": "stream",
     "text": [
      "127.0.0.1 - - [05/Apr/2024 14:02:13] code 501, message Unsupported method ('POST')\n",
      "127.0.0.1 - - [05/Apr/2024 14:02:13] \"POST http://ocsp.digicert.com/ HTTP/1.1\" 501 -\n"
     ]
    },
    {
     "name": "stdout",
     "output_type": "stream",
     "text": [
      "['http:', '', 'download.mozilla.org', '?product=firefox-56.0-complete-bz2&os=win64&lang=en-US']\n",
      "[0, 0, 0, 0, 0, 0]\n",
      "Cluster 0\n",
      "['http:', '', 'demo.testfire.net', '']\n",
      "[0, 0, 0, 0, 0, 0]\n",
      "Cluster 0\n",
      "['http:', '', 'demo.testfire.net', '-%20-%20--%20-%20%20@@%20()()']\n",
      "[0, 0, 1, 2, 6, 0]\n",
      "Cluster 1\n",
      "Intrusion Detected\n"
     ]
    },
    {
     "name": "stderr",
     "output_type": "stream",
     "text": [
      "127.0.0.1 - - [05/Apr/2024 14:03:11] code 501, message Unsupported method ('POST')\n",
      "127.0.0.1 - - [05/Apr/2024 14:03:11] \"POST http://ocsp.digicert.com/ HTTP/1.1\" 501 -\n",
      "127.0.0.1 - - [05/Apr/2024 14:03:11] code 501, message Unsupported method ('POST')\n",
      "127.0.0.1 - - [05/Apr/2024 14:03:11] \"POST http://ocsp.digicert.com/ HTTP/1.1\" 501 -\n",
      "127.0.0.1 - - [05/Apr/2024 14:03:11] code 501, message Unsupported method ('POST')\n",
      "127.0.0.1 - - [05/Apr/2024 14:03:11] \"POST http://ocsp.digicert.com/ HTTP/1.1\" 501 -\n",
      "127.0.0.1 - - [05/Apr/2024 14:03:11] code 501, message Unsupported method ('POST')\n",
      "127.0.0.1 - - [05/Apr/2024 14:03:11] \"POST http://ocsp.digicert.com/ HTTP/1.1\" 501 -\n",
      "127.0.0.1 - - [05/Apr/2024 14:03:16] code 501, message Unsupported method ('POST')\n",
      "127.0.0.1 - - [05/Apr/2024 14:03:16] \"POST http://ocsp.digicert.com/ HTTP/1.1\" 501 -\n"
     ]
    },
    {
     "name": "stdout",
     "output_type": "stream",
     "text": [
      "['http:', '', 'ciscobinary.openh264.org', 'openh264-win64-0410d336bb748149a4f560eb6108090f078254b1.zip']\n",
      "[0, 0, 0, 0, 0, 0]\n",
      "Cluster 0\n",
      "err\n",
      "['http:', '', 'download.mozilla.org', '?product=firefox-56.0-complete-bz2&os=win64&lang=en-US']\n",
      "[0, 0, 0, 0, 0, 0]\n",
      "Cluster 0\n",
      "['http:', '', 'demo.testfire.net', '']\n",
      "[0, 0, 0, 0, 0, 0]\n",
      "Cluster 0\n",
      "['http:', '', 'demo.testfire.net', '()(%20%20(((%20%20%20(']\n",
      "[0, 0, 0, 6, 5, 0]\n",
      "Cluster 1\n",
      "Intrusion Detected\n"
     ]
    },
    {
     "name": "stderr",
     "output_type": "stream",
     "text": [
      "127.0.0.1 - - [05/Apr/2024 14:05:15] code 501, message Unsupported method ('POST')\n",
      "127.0.0.1 - - [05/Apr/2024 14:05:15] \"POST http://ocsp.pki.goog/gts1c3 HTTP/1.1\" 501 -\n"
     ]
    },
    {
     "name": "stdout",
     "output_type": "stream",
     "text": [
      "['http:', '', 'download.mozilla.org', '?product=firefox-56.0-complete-bz2&os=win64&lang=en-US']\n",
      "[0, 0, 0, 0, 0, 0]\n",
      "Cluster 0\n"
     ]
    },
    {
     "name": "stderr",
     "output_type": "stream",
     "text": [
      "127.0.0.1 - - [05/Apr/2024 14:08:27] code 501, message Unsupported method ('POST')\n",
      "127.0.0.1 - - [05/Apr/2024 14:08:27] \"POST http://ocsp.pki.goog/s/gts1d4/z0eeh6_fDCw HTTP/1.1\" 501 -\n",
      "127.0.0.1 - - [05/Apr/2024 14:08:27] code 501, message Unsupported method ('POST')\n",
      "127.0.0.1 - - [05/Apr/2024 14:08:27] \"POST http://ocsp.pki.goog/s/gts1d4/z0eeh6_fDCw HTTP/1.1\" 501 -\n",
      "127.0.0.1 - - [05/Apr/2024 14:08:27] code 501, message Unsupported method ('POST')\n",
      "127.0.0.1 - - [05/Apr/2024 14:08:27] \"POST http://ocsp.pki.goog/s/gts1d4/z0eeh6_fDCw HTTP/1.1\" 501 -\n",
      "127.0.0.1 - - [05/Apr/2024 14:08:27] code 501, message Unsupported method ('POST')\n",
      "127.0.0.1 - - [05/Apr/2024 14:08:27] \"POST http://ocsp.pki.goog/s/gts1d4/z0eeh6_fDCw HTTP/1.1\" 501 -\n",
      "127.0.0.1 - - [05/Apr/2024 14:08:27] code 501, message Unsupported method ('POST')\n",
      "127.0.0.1 - - [05/Apr/2024 14:08:27] \"POST http://ocsp.pki.goog/s/gts1d4/z0eeh6_fDCw HTTP/1.1\" 501 -\n"
     ]
    },
    {
     "name": "stdout",
     "output_type": "stream",
     "text": [
      "['http:', '', 'download.mozilla.org', '?product=firefox-56.0-complete-bz2&os=win64&lang=en-US']\n",
      "[0, 0, 0, 0, 0, 0]\n",
      "Cluster 0\n",
      "['http:', '', 'download.mozilla.org', '?product=firefox-56.0-complete-bz2&os=win64&lang=en-US']\n",
      "[0, 0, 0, 0, 0, 0]\n",
      "Cluster 0\n",
      "['http:', '', 'download.mozilla.org', '?product=firefox-56.0-complete-bz2&os=win64&lang=en-US']\n",
      "[0, 0, 0, 0, 0, 0]\n",
      "Cluster 0\n",
      "['http:', '', 'download.mozilla.org', '?product=firefox-56.0-complete-bz2&os=win64&lang=en-US']\n",
      "[0, 0, 0, 0, 0, 0]\n",
      "Cluster 0\n",
      "['http:', '', 'download.mozilla.org', '?product=firefox-56.0-complete-bz2&os=win64&lang=en-US']\n",
      "[0, 0, 0, 0, 0, 0]\n",
      "Cluster 0\n",
      "['http:', '', 'download.mozilla.org', '?product=firefox-56.0-complete-bz2&os=win64&lang=en-US']\n",
      "[0, 0, 0, 0, 0, 0]\n",
      "Cluster 0\n"
     ]
    }
   ],
   "source": [
    "class SimpleHTTPProxy(SimpleHTTPRequestHandler):\n",
    "    proxy_routes = {}\n",
    "\n",
    "    @classmethod\n",
    "    def set_routes(cls, proxy_routes):\n",
    "        cls.proxy_routes = proxy_routes\n",
    "\n",
    "    def do_GET(self):\n",
    "        parts = self.path.split('/')\n",
    "        print(parts)\n",
    "        live_data = ExtractFeatures(parts[3])\n",
    "        result = predict_model(kmeans,data = live_data)\n",
    "        print(result['Cluster'][0])\n",
    "        if result['Cluster'][0] == \"Cluster 1\":\n",
    "            print('Intrusion Detected')\n",
    "        if len(parts) >= 2:\n",
    "            self.proxy_request('http://' + parts[2] + '/')\n",
    "        else:\n",
    "            super().do_GET()\n",
    "\n",
    "    def proxy_request(self, url):\n",
    "        try:\n",
    "            response = request.urlopen(url)\n",
    "        except error.HTTPError as e:\n",
    "            print('err')\n",
    "            self.send_response_only(e.code)\n",
    "            self.end_headers()\n",
    "            return\n",
    "        self.send_response_only(response.status)\n",
    "        for name, value in response.headers.items():\n",
    "            self.send_header(name, value)\n",
    "        self.end_headers()\n",
    "        self.copyfile(response, self.wfile)\n",
    "\n",
    "SimpleHTTPProxy.set_routes({'proxy_route': 'http://demo.testfire.net/'})\n",
    "with HTTPServer(('127.0.0.1', 8090), SimpleHTTPProxy) as httpd:\n",
    "    host, port = httpd.socket.getsockname()\n",
    "    print(f'Listening on http://{host}:{port}')\n",
    "    try:\n",
    "        httpd.serve_forever()\n",
    "    except KeyboardInterrupt:\n",
    "        print(\"\\nKeyboard interrupt receive, exiting.\")"
   ]
  },
  {
   "cell_type": "code",
   "execution_count": 8,
   "id": "600d51a9-2d99-45ba-ad79-087f89099165",
   "metadata": {},
   "outputs": [
    {
     "data": {
      "text/html": [],
      "text/plain": [
       "<IPython.core.display.HTML object>"
      ]
     },
     "metadata": {},
     "output_type": "display_data"
    },
    {
     "data": {
      "application/vnd.plotly.v1+json": {
       "config": {
        "plotlyServerURL": "https://plot.ly"
       },
       "data": [
        {
         "customdata": [
          [
           "GET"
          ],
          [
           "GET"
          ],
          [
           "GET"
          ],
          [
           "GET"
          ],
          [
           "GET"
          ],
          [
           "GET"
          ],
          [
           "GET"
          ],
          [
           "GET"
          ],
          [
           "GET"
          ],
          [
           "GET"
          ],
          [
           "GET"
          ],
          [
           "GET"
          ],
          [
           "GET"
          ],
          [
           "GET"
          ],
          [
           "GET"
          ],
          [
           "GET"
          ],
          [
           "GET"
          ],
          [
           "GET"
          ],
          [
           "GET"
          ],
          [
           "GET"
          ],
          [
           "GET"
          ],
          [
           "GET"
          ],
          [
           "GET"
          ],
          [
           "GET"
          ],
          [
           "GET"
          ],
          [
           "GET"
          ],
          [
           "GET"
          ],
          [
           "GET"
          ],
          [
           "POST"
          ],
          [
           "POST"
          ],
          [
           "GET"
          ],
          [
           "POST"
          ],
          [
           "GET"
          ],
          [
           "GET"
          ],
          [
           "GET"
          ],
          [
           "GET"
          ],
          [
           "GET"
          ],
          [
           "GET"
          ],
          [
           "GET"
          ],
          [
           "GET"
          ],
          [
           "GET"
          ],
          [
           "GET"
          ],
          [
           "GET"
          ],
          [
           "GET"
          ],
          [
           "GET"
          ],
          [
           "GET"
          ],
          [
           "GET"
          ],
          [
           "GET"
          ],
          [
           "GET"
          ],
          [
           "GET"
          ],
          [
           "GET"
          ],
          [
           "GET"
          ],
          [
           "GET"
          ],
          [
           "GET"
          ],
          [
           "GET"
          ],
          [
           "GET"
          ],
          [
           "GET"
          ],
          [
           "GET"
          ],
          [
           "GET"
          ],
          [
           "GET"
          ],
          [
           "GET"
          ],
          [
           "GET"
          ],
          [
           "GET"
          ],
          [
           "GET"
          ],
          [
           "GET"
          ],
          [
           "GET"
          ],
          [
           "GET"
          ],
          [
           "GET"
          ],
          [
           "GET"
          ],
          [
           "GET"
          ],
          [
           "GET"
          ],
          [
           "GET"
          ],
          [
           "GET"
          ],
          [
           "GET"
          ],
          [
           "GET"
          ],
          [
           "GET"
          ],
          [
           "GET"
          ],
          [
           "GET"
          ],
          [
           "GET"
          ],
          [
           "GET"
          ],
          [
           "GET"
          ],
          [
           "GET"
          ],
          [
           "GET"
          ],
          [
           "GET"
          ],
          [
           "GET"
          ],
          [
           "GET"
          ],
          [
           "POST"
          ],
          [
           "POST"
          ],
          [
           "POST"
          ],
          [
           "POST"
          ],
          [
           "POST"
          ],
          [
           "POST"
          ],
          [
           "POST"
          ],
          [
           "POST"
          ],
          [
           "POST"
          ],
          [
           "POST"
          ],
          [
           "POST"
          ],
          [
           "POST"
          ],
          [
           "POST"
          ],
          [
           "POST"
          ],
          [
           "POST"
          ],
          [
           "POST"
          ],
          [
           "POST"
          ],
          [
           "POST"
          ],
          [
           "POST"
          ],
          [
           "POST"
          ],
          [
           "POST"
          ],
          [
           "POST"
          ],
          [
           "POST"
          ],
          [
           "GET"
          ],
          [
           "GET"
          ],
          [
           "GET"
          ],
          [
           "GET"
          ],
          [
           "GET"
          ],
          [
           "GET"
          ],
          [
           "GET"
          ],
          [
           "GET"
          ],
          [
           "POST"
          ],
          [
           "GET"
          ],
          [
           "GET"
          ],
          [
           "GET"
          ],
          [
           "POST"
          ],
          [
           "POST"
          ],
          [
           "POST"
          ],
          [
           "POST"
          ],
          [
           "POST"
          ],
          [
           "POST"
          ],
          [
           "POST"
          ],
          [
           "POST"
          ],
          [
           "POST"
          ],
          [
           "POST"
          ],
          [
           "POST"
          ],
          [
           "POST"
          ],
          [
           "POST"
          ],
          [
           "GET"
          ],
          [
           "GET"
          ],
          [
           "POST"
          ],
          [
           "POST"
          ],
          [
           "POST"
          ],
          [
           "POST"
          ],
          [
           "POST"
          ],
          [
           "POST"
          ],
          [
           "POST"
          ],
          [
           "POST"
          ],
          [
           "POST"
          ],
          [
           "POST"
          ],
          [
           "POST"
          ],
          [
           "POST"
          ],
          [
           "POST"
          ],
          [
           "POST"
          ],
          [
           "POST"
          ],
          [
           "GET"
          ],
          [
           "POST"
          ],
          [
           "GET"
          ],
          [
           "GET"
          ],
          [
           "POST"
          ],
          [
           "POST"
          ],
          [
           "POST"
          ],
          [
           "POST"
          ],
          [
           "POST"
          ],
          [
           "POST"
          ],
          [
           "POST"
          ],
          [
           "POST"
          ],
          [
           "POST"
          ],
          [
           "POST"
          ],
          [
           "POST"
          ],
          [
           "POST"
          ],
          [
           "POST"
          ],
          [
           "POST"
          ],
          [
           "POST"
          ],
          [
           "POST"
          ],
          [
           "POST"
          ],
          [
           "GET"
          ],
          [
           "GET"
          ],
          [
           "GET"
          ],
          [
           "GET"
          ],
          [
           "GET"
          ],
          [
           "GET"
          ],
          [
           "GET"
          ],
          [
           "GET"
          ],
          [
           "GET"
          ],
          [
           "GET"
          ],
          [
           "GET"
          ],
          [
           "GET"
          ],
          [
           "GET"
          ],
          [
           "GET"
          ],
          [
           "GET"
          ],
          [
           "GET"
          ],
          [
           "GET"
          ],
          [
           "GET"
          ],
          [
           "GET"
          ],
          [
           "GET"
          ],
          [
           "GET"
          ],
          [
           "GET"
          ],
          [
           "GET"
          ],
          [
           "GET"
          ],
          [
           "GET"
          ],
          [
           "POST"
          ],
          [
           "POST"
          ],
          [
           "POST"
          ],
          [
           "POST"
          ],
          [
           "POST"
          ],
          [
           "POST"
          ],
          [
           "POST"
          ],
          [
           "GET"
          ],
          [
           "POST"
          ],
          [
           "POST"
          ],
          [
           "POST"
          ],
          [
           "POST"
          ],
          [
           "GET"
          ],
          [
           "GET"
          ],
          [
           "GET"
          ],
          [
           "GET"
          ],
          [
           "GET"
          ],
          [
           "POST"
          ],
          [
           "GET"
          ],
          [
           "GET"
          ],
          [
           "GET"
          ],
          [
           "GET"
          ],
          [
           "GET"
          ],
          [
           "GET"
          ],
          [
           "GET"
          ],
          [
           "GET"
          ],
          [
           "POST"
          ],
          [
           "GET"
          ],
          [
           "GET"
          ],
          [
           "GET"
          ],
          [
           "GET"
          ],
          [
           "GET"
          ],
          [
           "GET"
          ],
          [
           "GET"
          ],
          [
           "GET"
          ],
          [
           "GET"
          ],
          [
           "GET"
          ],
          [
           "GET"
          ],
          [
           "GET"
          ],
          [
           "GET"
          ],
          [
           "GET"
          ],
          [
           "GET"
          ],
          [
           "GET"
          ],
          [
           "GET"
          ],
          [
           "GET"
          ],
          [
           "GET"
          ],
          [
           "GET"
          ],
          [
           "GET"
          ],
          [
           "GET"
          ],
          [
           "GET"
          ],
          [
           "GET"
          ],
          [
           "GET"
          ],
          [
           "GET"
          ],
          [
           "GET"
          ],
          [
           "GET"
          ],
          [
           "GET"
          ],
          [
           "GET"
          ],
          [
           "GET"
          ],
          [
           "GET"
          ],
          [
           "GET"
          ],
          [
           "GET"
          ],
          [
           "GET"
          ],
          [
           "GET"
          ],
          [
           "POST"
          ],
          [
           "POST"
          ],
          [
           "POST"
          ],
          [
           "POST"
          ],
          [
           "POST"
          ],
          [
           "POST"
          ],
          [
           "POST"
          ],
          [
           "POST"
          ],
          [
           "POST"
          ],
          [
           "POST"
          ],
          [
           "POST"
          ],
          [
           "POST"
          ],
          [
           "POST"
          ],
          [
           "POST"
          ],
          [
           "POST"
          ],
          [
           "POST"
          ],
          [
           "POST"
          ],
          [
           "POST"
          ],
          [
           "POST"
          ],
          [
           "POST"
          ],
          [
           "POST"
          ],
          [
           "POST"
          ],
          [
           "POST"
          ],
          [
           "POST"
          ],
          [
           "GET"
          ],
          [
           "GET"
          ],
          [
           "GET"
          ],
          [
           "POST"
          ],
          [
           "POST"
          ],
          [
           "GET"
          ],
          [
           "GET"
          ],
          [
           "GET"
          ],
          [
           "POST"
          ],
          [
           "GET"
          ],
          [
           "POST"
          ],
          [
           "GET"
          ],
          [
           "GET"
          ],
          [
           "GET"
          ],
          [
           "GET"
          ],
          [
           "GET"
          ],
          [
           "GET"
          ],
          [
           "POST"
          ],
          [
           "GET"
          ],
          [
           "GET"
          ],
          [
           "POST"
          ],
          [
           "POST"
          ],
          [
           "POST"
          ],
          [
           "POST"
          ],
          [
           "POST"
          ],
          [
           "POST"
          ],
          [
           "POST"
          ],
          [
           "POST"
          ],
          [
           "POST"
          ],
          [
           "POST"
          ],
          [
           "POST"
          ],
          [
           "POST"
          ],
          [
           "POST"
          ],
          [
           "POST"
          ],
          [
           "POST"
          ],
          [
           "POST"
          ],
          [
           "POST"
          ],
          [
           "POST"
          ],
          [
           "POST"
          ],
          [
           "POST"
          ],
          [
           "POST"
          ],
          [
           "POST"
          ],
          [
           "POST"
          ],
          [
           "POST"
          ],
          [
           "POST"
          ],
          [
           "POST"
          ],
          [
           "POST"
          ],
          [
           "POST"
          ],
          [
           "POST"
          ],
          [
           "POST"
          ],
          [
           "POST"
          ],
          [
           "POST"
          ],
          [
           "POST"
          ],
          [
           "POST"
          ],
          [
           "POST"
          ],
          [
           "POST"
          ],
          [
           "POST"
          ],
          [
           "POST"
          ],
          [
           "POST"
          ],
          [
           "POST"
          ],
          [
           "POST"
          ],
          [
           "POST"
          ],
          [
           "POST"
          ],
          [
           "GET"
          ],
          [
           "POST"
          ],
          [
           "GET"
          ],
          [
           "GET"
          ],
          [
           "GET"
          ],
          [
           "GET"
          ],
          [
           "POST"
          ],
          [
           "POST"
          ],
          [
           "POST"
          ],
          [
           "GET"
          ],
          [
           "POST"
          ],
          [
           "GET"
          ],
          [
           "GET"
          ],
          [
           "GET"
          ],
          [
           "GET"
          ],
          [
           "GET"
          ],
          [
           "GET"
          ],
          [
           "GET"
          ],
          [
           "GET"
          ],
          [
           "GET"
          ],
          [
           "POST"
          ],
          [
           "GET"
          ],
          [
           "GET"
          ],
          [
           "GET"
          ],
          [
           "GET"
          ],
          [
           "GET"
          ],
          [
           "GET"
          ],
          [
           "GET"
          ],
          [
           "GET"
          ],
          [
           "GET"
          ],
          [
           "GET"
          ],
          [
           "GET"
          ],
          [
           "GET"
          ],
          [
           "GET"
          ],
          [
           "GET"
          ],
          [
           "GET"
          ],
          [
           "GET"
          ],
          [
           "GET"
          ],
          [
           "GET"
          ],
          [
           "GET"
          ],
          [
           "GET"
          ],
          [
           "GET"
          ],
          [
           "GET"
          ],
          [
           "GET"
          ],
          [
           "POST"
          ],
          [
           "GET"
          ],
          [
           "GET"
          ],
          [
           "GET"
          ],
          [
           "POST"
          ],
          [
           "GET"
          ],
          [
           "POST"
          ],
          [
           "POST"
          ],
          [
           "POST"
          ],
          [
           "POST"
          ],
          [
           "POST"
          ],
          [
           "POST"
          ],
          [
           "POST"
          ],
          [
           "POST"
          ],
          [
           "POST"
          ],
          [
           "POST"
          ],
          [
           "POST"
          ],
          [
           "POST"
          ],
          [
           "POST"
          ],
          [
           "POST"
          ],
          [
           "POST"
          ],
          [
           "POST"
          ],
          [
           "POST"
          ],
          [
           "POST"
          ],
          [
           "GET"
          ],
          [
           "POST"
          ],
          [
           "POST"
          ],
          [
           "GET"
          ],
          [
           "POST"
          ],
          [
           "GET"
          ],
          [
           "GET"
          ],
          [
           "GET"
          ],
          [
           "GET"
          ],
          [
           "GET"
          ],
          [
           "GET"
          ],
          [
           "GET"
          ],
          [
           "GET"
          ],
          [
           "GET"
          ],
          [
           "POST"
          ],
          [
           "POST"
          ],
          [
           "POST"
          ],
          [
           "POST"
          ],
          [
           "POST"
          ],
          [
           "POST"
          ],
          [
           "POST"
          ],
          [
           "POST"
          ],
          [
           "POST"
          ],
          [
           "GET"
          ],
          [
           "GET"
          ],
          [
           "GET"
          ],
          [
           "GET"
          ],
          [
           "GET"
          ],
          [
           "POST"
          ],
          [
           "POST"
          ],
          [
           "GET"
          ],
          [
           "GET"
          ],
          [
           "GET"
          ],
          [
           "GET"
          ],
          [
           "GET"
          ],
          [
           "GET"
          ],
          [
           "GET"
          ],
          [
           "GET"
          ],
          [
           "GET"
          ],
          [
           "GET"
          ],
          [
           "GET"
          ],
          [
           "GET"
          ],
          [
           "GET"
          ],
          [
           "GET"
          ],
          [
           "GET"
          ],
          [
           "GET"
          ],
          [
           "GET"
          ],
          [
           "GET"
          ],
          [
           "GET"
          ],
          [
           "GET"
          ],
          [
           "GET"
          ],
          [
           "GET"
          ],
          [
           "GET"
          ],
          [
           "GET"
          ],
          [
           "GET"
          ],
          [
           "GET"
          ],
          [
           "GET"
          ],
          [
           "GET"
          ],
          [
           "GET"
          ],
          [
           "GET"
          ],
          [
           "GET"
          ],
          [
           "GET"
          ],
          [
           "GET"
          ],
          [
           "GET"
          ],
          [
           "GET"
          ],
          [
           "GET"
          ],
          [
           "GET"
          ],
          [
           "GET"
          ],
          [
           "GET"
          ],
          [
           "POST"
          ],
          [
           "GET"
          ],
          [
           "GET"
          ],
          [
           "GET"
          ],
          [
           "GET"
          ],
          [
           "GET"
          ],
          [
           "GET"
          ],
          [
           "GET"
          ],
          [
           "GET"
          ],
          [
           "GET"
          ],
          [
           "GET"
          ],
          [
           "GET"
          ],
          [
           "GET"
          ],
          [
           "GET"
          ],
          [
           "GET"
          ],
          [
           "POST"
          ],
          [
           "POST"
          ],
          [
           "POST"
          ],
          [
           "GET"
          ],
          [
           "GET"
          ],
          [
           "GET"
          ],
          [
           "GET"
          ],
          [
           "GET"
          ],
          [
           "GET"
          ],
          [
           "GET"
          ],
          [
           "GET"
          ],
          [
           "GET"
          ],
          [
           "GET"
          ],
          [
           "GET"
          ],
          [
           "GET"
          ],
          [
           "GET"
          ],
          [
           "GET"
          ],
          [
           "GET"
          ],
          [
           "GET"
          ],
          [
           "GET"
          ],
          [
           "GET"
          ],
          [
           "GET"
          ],
          [
           "GET"
          ],
          [
           "GET"
          ],
          [
           "GET"
          ],
          [
           "GET"
          ],
          [
           "GET"
          ],
          [
           "GET"
          ],
          [
           "POST"
          ],
          [
           "GET"
          ],
          [
           "GET"
          ],
          [
           "POST"
          ],
          [
           "GET"
          ],
          [
           "GET"
          ],
          [
           "GET"
          ],
          [
           "GET"
          ],
          [
           "GET"
          ],
          [
           "GET"
          ],
          [
           "GET"
          ],
          [
           "GET"
          ],
          [
           "POST"
          ],
          [
           "GET"
          ],
          [
           "GET"
          ],
          [
           "GET"
          ],
          [
           "GET"
          ],
          [
           "GET"
          ],
          [
           "GET"
          ],
          [
           "GET"
          ],
          [
           "GET"
          ],
          [
           "GET"
          ],
          [
           "GET"
          ],
          [
           "GET"
          ],
          [
           "GET"
          ],
          [
           "GET"
          ],
          [
           "GET"
          ],
          [
           "GET"
          ],
          [
           "GET"
          ],
          [
           "GET"
          ],
          [
           "GET"
          ],
          [
           "GET"
          ],
          [
           "GET"
          ],
          [
           "GET"
          ],
          [
           "GET"
          ],
          [
           "GET"
          ],
          [
           "GET"
          ],
          [
           "GET"
          ],
          [
           "GET"
          ],
          [
           "GET"
          ],
          [
           "GET"
          ],
          [
           "GET"
          ],
          [
           "GET"
          ],
          [
           "GET"
          ],
          [
           "GET"
          ],
          [
           "GET"
          ],
          [
           "GET"
          ],
          [
           "POST"
          ],
          [
           "GET"
          ],
          [
           "GET"
          ],
          [
           "GET"
          ],
          [
           "GET"
          ],
          [
           "POST"
          ],
          [
           "GET"
          ],
          [
           "GET"
          ],
          [
           "GET"
          ],
          [
           "GET"
          ],
          [
           "GET"
          ],
          [
           "GET"
          ],
          [
           "GET"
          ],
          [
           "GET"
          ],
          [
           "GET"
          ],
          [
           "GET"
          ],
          [
           "GET"
          ],
          [
           "GET"
          ],
          [
           "GET"
          ],
          [
           "GET"
          ],
          [
           "GET"
          ],
          [
           "GET"
          ],
          [
           "GET"
          ],
          [
           "POST"
          ],
          [
           "GET"
          ],
          [
           "GET"
          ],
          [
           "POST"
          ],
          [
           "GET"
          ],
          [
           "GET"
          ],
          [
           "GET"
          ],
          [
           "GET"
          ],
          [
           "GET"
          ],
          [
           "GET"
          ],
          [
           "POST"
          ],
          [
           "GET"
          ],
          [
           "GET"
          ],
          [
           "GET"
          ]
         ],
         "hovertemplate": "Cluster=Cluster 0<br>PCA1=%{x}<br>PCA2=%{y}<br>Feature=%{customdata[0]}<extra></extra>",
         "legendgroup": "Cluster 0",
         "marker": {
          "color": "#636efa",
          "opacity": 0.5,
          "symbol": "circle"
         },
         "mode": "markers",
         "name": "Cluster 0",
         "orientation": "v",
         "showlegend": true,
         "textposition": "top center",
         "type": "scatter",
         "x": [
          -0.9643334905462002,
          -0.9643334905461967,
          -0.9643334905461967,
          -0.9643334905461967,
          -0.9643334905461967,
          -0.9643334905461967,
          -0.9643334905461967,
          -0.9643334905461967,
          -0.9643334905461967,
          -0.9643334905461967,
          -0.9643334905461967,
          -0.9643334905461967,
          -0.9643334905461967,
          -0.9643334905461967,
          -0.9643334905461967,
          -0.9643334905461967,
          -0.9643334905461967,
          -0.9643334905461967,
          -0.9643334905461967,
          -0.9643334905461967,
          -0.9643334905461967,
          -0.9643334905461967,
          4.061214012392128,
          -0.8976174510124268,
          -0.9643334905461967,
          -0.724418943242681,
          -0.9309754707793118,
          -0.9643334905461967,
          -0.9643334905461967,
          -0.9643334905461967,
          -0.9643334905461967,
          -0.9643334905461967,
          2.9407386215917946,
          -0.9643334905461967,
          -0.9643334905461967,
          -0.9643334905461967,
          -0.9643334905461967,
          -0.9643334905461967,
          -0.9643334905461967,
          -0.9643334905461967,
          -0.9643334905461967,
          -0.9643334905461967,
          -0.9643334905461967,
          -0.9643334905461967,
          2.9407386215917946,
          -0.9643334905461967,
          -0.9643334905461967,
          -0.9643334905461967,
          -0.9643334905461967,
          -0.9643334905461967,
          -0.9643334905461967,
          -0.9643334905461967,
          -0.724418943242681,
          -0.9643334905461967,
          -0.9643334905461967,
          0.018022595252695343,
          -0.9643334905461967,
          -0.9643334905461967,
          4.061214012392128,
          -0.9643334905461967,
          -0.9643334905461967,
          -0.9643334905461967,
          -0.9643334905461967,
          4.007039360017763,
          -0.9643334905461967,
          -0.9643334905461967,
          -0.9643334905461967,
          -0.9643334905461967,
          -0.9643334905461967,
          -0.9643334905461967,
          -0.9643334905461967,
          -0.9643334905461967,
          -0.9643334905461967,
          -0.9643334905461967,
          -0.9643334905461967,
          -0.9643334905461967,
          -0.9643334905461967,
          4.007039360017763,
          4.061214012392128,
          -0.9643334905461967,
          -0.8976174510124268,
          -0.9643334905461967,
          -0.9643334905461967,
          -0.9643334905461967,
          -0.9643334905461967,
          -0.8976174510124268,
          -0.8976174510124268,
          -0.9309754707793118,
          -0.9643334905461967,
          -0.9643334905461967,
          -0.9643334905461967,
          -0.9643334905461967,
          -0.9643334905461967,
          -0.724418943242681,
          -0.724418943242681,
          -0.724418943242681,
          -0.724418943242681,
          4.007039360017763,
          2.9407386215917946,
          4.007039360017763,
          2.9407386215917946,
          4.061214012392128,
          4.061214012392128,
          -0.9309754707793118,
          -0.9309754707793118,
          -0.9643334905461967,
          -0.9643334905461967,
          -0.9643334905461967,
          -0.9643334905461967,
          -0.9643334905461967,
          -0.9643334905461967,
          -0.9643334905461967,
          -0.9643334905461967,
          -0.9643334905461967,
          -0.9643334905461967,
          -0.9643334905461967,
          -0.9643334905461967,
          -0.9309754707793118,
          -0.9643334905461967,
          -0.9643334905461967,
          -0.9643334905461967,
          -0.9643334905461967,
          -0.9643334905461967,
          -0.9643334905461967,
          -0.9643334905461967,
          -0.9643334905461967,
          -0.9643334905461967,
          -0.9643334905461967,
          -0.8976174510124268,
          -0.8976174510124268,
          -0.8976174510124268,
          -0.8976174510124268,
          -0.8976174510124268,
          -0.8976174510124268,
          -0.9643334905461967,
          -0.9643334905461967,
          -0.9643334905461967,
          -0.9643334905461967,
          -0.9643334905461967,
          4.061214012392128,
          -0.9643334905461967,
          -0.9643334905461967,
          -0.9643334905461967,
          -0.9643334905461967,
          -0.724418943242681,
          -0.724418943242681,
          -0.830832553800848,
          -0.724418943242681,
          -0.9309754707793118,
          -0.9643334905461967,
          -0.9309754707793118,
          -0.9643334905461968,
          -0.724418943242681,
          -0.9643334905461967,
          -0.9643334905461967,
          -0.9643334905461967,
          -0.9643334905461967,
          -0.9643334905461967,
          -0.9643334905461967,
          -0.9643334905461967,
          -0.9643334905461967,
          4.007039360017763,
          -0.9643334905461967,
          -0.9643334905461967,
          -0.9643334905461967,
          -0.9643334905461967,
          -0.9643334905461967,
          -0.724418943242681,
          -0.724418943242681,
          -0.724418943242681,
          -0.830832553800848,
          -0.9643334905461967,
          -0.8976174510124268,
          -0.9643334905461967,
          2.9407386215917946,
          -0.9643334905461967,
          -0.9643334905461967,
          -0.9643334905461967,
          -0.9643334905461967,
          -0.9643334905461967,
          -0.9643334905461967,
          -0.9643334905461967,
          -0.9643334905461967,
          -0.9643334905461967,
          -0.9643334905461967,
          -0.9643334905461967,
          -0.9643334905461967,
          -0.9643334905461967,
          -0.9643334905461967,
          -0.9643334905461967,
          -0.9643334905461967,
          0.018022595252695343,
          -0.9643334905461967,
          -0.9643334905461967,
          -0.9643334905461967,
          -0.9643334905461967,
          -0.9643334905461967,
          -0.8976174510124268,
          -0.8976174510124268,
          -0.8976174510124268,
          -0.8976174510124268,
          -0.8976174510124268,
          -0.8976174510124268,
          -0.8976174510124268,
          -0.9643334905461967,
          -0.8976174510124268,
          -0.8976174510124268,
          -0.6577029037089112,
          -0.6577029037089112,
          -0.9643334905461967,
          -0.9643334905461967,
          -0.9643334905461967,
          -0.9643334905461967,
          -0.9643334905461967,
          -0.8976174510124268,
          -0.9643334905461967,
          4.061214012392128,
          -0.9643334905461967,
          -0.9643334905461967,
          -0.9643334905461967,
          -0.9643334905461967,
          -0.9643334905461967,
          -0.9643334905461967,
          -0.9643334905461967,
          -0.9643334905461967,
          1.1953553124929255,
          -0.9643334905461967,
          -0.9643334905461967,
          -0.9643334905461968,
          -0.9643334905461968,
          -0.9643334905461968,
          -0.9643334905461968,
          -0.9643334905461968,
          -0.9643334905461968,
          -0.9643334905461968,
          -0.9643334905461968,
          -0.9643334905461968,
          -0.9643334905461967,
          -0.9643334905461967,
          -0.9643334905461967,
          -0.8976174510124268,
          -0.8976174510124268,
          -0.9643334905461967,
          -0.9643334905461967,
          -0.9643334905461967,
          -0.9643334905461967,
          -0.9643334905461967,
          2.9407386215917946,
          -0.9643334905461967,
          -0.9643334905461967,
          -0.9643334905461967,
          -0.9643334905461967,
          -0.9643334905461967,
          -0.9643334905461967,
          -0.9643334905461967,
          -0.9643334905461967,
          -0.9643334905461967,
          -0.9643334905461967,
          -0.9643334905461967,
          -0.9643334905461967,
          -0.9643334905461967,
          -0.8976174510124268,
          4.061214012392128,
          -0.04414393370279066,
          -0.9643334905461967,
          -0.8976174510124268,
          -0.9643334905461967,
          -0.9643334905461967,
          -0.48450439593916533,
          -0.48450439593916533,
          -0.724418943242681,
          -0.04414393370279066,
          -0.724418943242681,
          -0.9643334905461967,
          -0.9643334905461967,
          2.9407386215917946,
          -0.9643334905461967,
          -0.724418943242681,
          4.007039360017763,
          4.061214012392128,
          -0.8976174510124268,
          -0.9643334905461967,
          4.061214012392128,
          -0.9643334905461967,
          -0.9643334905461967,
          -0.9643334905461967,
          -0.9643334905461967,
          -0.9643334905461967,
          -0.9643334905461967,
          -0.9643334905461967,
          -0.9643334905461967,
          -0.9643334905461967,
          -0.9643334905461967,
          -0.9643334905461967,
          -0.8976174510124268,
          -0.9643334905461967,
          -0.9643334905461967,
          -0.9643334905461967,
          -0.9643334905461967,
          -0.9643334905461967,
          -0.9643334905461967,
          -0.9643334905461967,
          -0.9643334905461967,
          -0.9643334905461967,
          -0.724418943242681,
          -0.8976174510124268,
          -0.9643334905461967,
          -0.8976174510124268,
          -0.9643334905461967,
          4.007039360017763,
          -0.9643334905461967,
          -0.9643334905461967,
          -0.724418943242681,
          4.007039360017763,
          -0.9643334905461967,
          -0.9643334905461967,
          -0.9643334905461967,
          -0.9643334905461967,
          -0.9643334905461967,
          -0.8976174510124268,
          4.061214012392128,
          -0.9643334905461967,
          4.061214012392128,
          -0.9643334905461967,
          -0.48450439593916533,
          4.007039360017763,
          4.007039360017763,
          -0.724418943242681,
          -0.9643334905461967,
          -0.48450439593916533,
          -0.9643334905461967,
          2.9407386215917946,
          -0.9643334905461967,
          -0.724418943242681,
          -0.9643334905461967,
          -0.9643334905461967,
          -0.9643334905461967,
          -0.724418943242681,
          -0.724418943242681,
          -0.9643334905461967,
          -0.9643334905461967,
          -0.9643334905461967,
          -0.48450439593916533,
          2.9407386215917946,
          2.9407386215917946,
          -0.724418943242681,
          2.9407386215917946,
          -0.9643334905461967,
          2.9407386215917946,
          -0.9643334905461967,
          -0.9643334905461967,
          -0.9643334905461967,
          -0.9643334905461967,
          -0.8976174510124268,
          -0.8976174510124268,
          -0.8976174510124268,
          -0.9643334905461967,
          -0.8976174510124268,
          -0.9643334905461967,
          -0.9643334905461967,
          -0.9643334905461967,
          -0.9643334905461967,
          -0.9643334905461967,
          -0.9643334905461967,
          -0.9643334905461967,
          -0.9643334905461967,
          -0.9643334905461967,
          -0.9643334905461967,
          -0.9643334905461967,
          -0.724418943242681,
          -0.9643334905461967,
          -0.9643334905461967,
          -0.9643334905461967,
          -0.9643334905461967,
          -0.9643334905461967,
          -0.9643334905461967,
          -0.9643334905461967,
          -0.9643334905461967,
          -0.9643334905461967,
          -0.9643334905461967,
          -0.9643334905461967,
          -0.9643334905461967,
          -0.9643334905461967,
          -0.9643334905461967,
          -0.9643334905461967,
          -0.9643334905461967,
          -0.9643334905461967,
          -0.9643334905461967,
          -0.9643334905461967,
          -0.9643334905461967,
          -0.9643334905461967,
          -0.9643334905461967,
          4.007039360017763,
          4.061214012392128,
          -0.9643334905461967,
          -0.4731554476467507,
          0.018022595252695343,
          -0.4731554476467507,
          0.00667364696028077,
          -0.23324090034323497,
          3.431916664491241,
          -0.4731554476467507,
          -0.23324090034323497,
          -0.23324090034323497,
          -0.4731554476467507,
          4.552392055291575,
          -0.9643334905461967,
          -0.9643334905461967,
          -0.9643334905461967,
          4.007039360017763,
          -0.9643334905461967,
          -0.8976174510124268,
          -0.9643334905461967,
          -0.9643334905461967,
          -0.4731554476467507,
          -0.9643334905461967,
          4.498217402917212,
          -0.4731554476467507,
          -0.8976174510124268,
          -0.9309754707793118,
          -0.724418943242681,
          -0.9309754707793118,
          -0.9643334905461967,
          -0.9643334905461967,
          2.9407386215917946,
          -0.9643334905461967,
          -0.9643334905461967,
          -0.9643334905461967,
          -0.9643334905461967,
          -0.4731554476467507,
          -0.4731554476467507,
          -0.406439408112981,
          -0.406439408112981,
          0.00667364696028077,
          -0.4731554476467507,
          -0.4731554476467507,
          -0.23324090034323497,
          -0.4731554476467507,
          -0.9643334905461967,
          -0.9643334905461967,
          -0.9643334905461967,
          -0.9643334905461967,
          -0.9643334905461967,
          -0.9643334905461967,
          -0.9643334905461967,
          -0.9643334905461967,
          -0.9643334905461967,
          -0.9643334905461967,
          -0.9643334905461967,
          -0.9643334905461967,
          -0.9643334905461967,
          -0.9643334905461967,
          -0.9643334905461967,
          -0.9643334905461967,
          -0.9643334905461967,
          -0.9643334905461967,
          -0.9643334905461967,
          -0.9643334905461967,
          -0.9643334905461967,
          -0.9643334905461967,
          -0.9643334905461967,
          -0.9643334905461967,
          -0.9643334905461967,
          -0.9643334905461967,
          -0.9643334905461891,
          -0.9643334905461967,
          0.018022595252695343,
          -0.9643334905461967,
          -0.9643334905461967,
          -0.9643334905461967,
          -0.9643334905461967,
          -0.9643334905461967,
          -0.9643334905461967,
          -0.9643334905461967,
          -0.9643334905461967,
          -0.9643334905461967,
          -0.9643334905461967,
          -0.9643334905461967,
          -0.9643334905461967,
          -0.9643334905461967,
          -0.9643334905461967,
          -0.9643334905461967,
          -0.9643334905461967,
          -0.9643334905461967,
          -0.724418943242681,
          -0.9643334905461967,
          -0.9643334905461967,
          -0.9643334905461967,
          -0.9643334905461967,
          -0.9643334905461967,
          -0.9643334905461967,
          -0.9643334905461967,
          -0.9643334905461967,
          -0.9643334905461967,
          -0.9643334905461967,
          -0.9643334905461967,
          -0.9643334905461967,
          -0.9643334905461967,
          -0.9643334905461967,
          -0.9643334905461967,
          -0.9643334905461967,
          -0.9643334905461967,
          -0.9643334905461967,
          -0.9643334905461967,
          -0.9643334905461967,
          -0.9643334905461967,
          -0.9643334905461967,
          -0.9643334905461967,
          -0.9643334905461967,
          -0.9643334905461967,
          -0.9643334905461967,
          -0.9643334905461967,
          -0.9643334905461967,
          -0.9643334905461967,
          -0.9643334905461967,
          -0.9643334905461967,
          -0.9643334905461967,
          -0.9643334905461967,
          -0.9643334905461967,
          -0.9643334905461967,
          -0.9643334905461967,
          -0.9643334905461967,
          -0.9643334905461967,
          -0.9643334905461967,
          -0.9643334905461967,
          -0.9643334905461967,
          -0.9643334905461967,
          -0.4719630087797594,
          -0.9643334905461967,
          -0.9643334905461967,
          -0.724418943242681,
          -0.9643334905461968,
          -0.9643334905461967,
          -0.9643334905461967,
          -0.9643334905461967,
          -0.9643334905461967,
          -0.9643334905461967,
          -0.9643334905461967,
          -0.9643334905461967,
          -0.8976174510124268,
          -0.9643334905461967,
          -0.9643334905461967,
          -0.9643334905461967,
          -0.9643334905461967,
          -0.9643334905461967,
          -0.9643334905461967,
          -0.9643334905461967,
          -0.9643334905461967,
          -0.9643334905461967,
          0.018022595252695343,
          -0.9643334905461967,
          -0.9643334905461967,
          -0.9643334905461967,
          -0.9643334905461967,
          -0.9643334905461967,
          -0.9643334905461967,
          -0.9643334905461967,
          -0.9643334905461967,
          -0.9643334905461967,
          -0.9643334905461967,
          -0.9643334905461967,
          -0.9643334905461967,
          -0.9643334905461967,
          -0.8976174510124268,
          -0.9643334905461967,
          -0.9643334905461967,
          -0.9643334905461967,
          4.061214012392128,
          -0.9643334905461967,
          -0.9643334905461967,
          -0.9643334905461967,
          -0.9643334905461967,
          -0.8976174510124268,
          -0.9643334905461967,
          -0.9643334905461967,
          -0.9643334905461967,
          -0.9643334905461967,
          -0.9643334905461967,
          -0.9643334905461967,
          -0.48450439593916533,
          -0.9643334905461967,
          -0.9643334905461967,
          -0.9643334905461967,
          -0.9643334905461967,
          -0.9643334905461967,
          -0.9643334905461967,
          -0.9643334905461967,
          -0.9643334905461967,
          -0.9643334905461967,
          -0.9643334905461967,
          -0.9643334905461967,
          -0.9643334905461967,
          -0.9643334905461967,
          -0.9643334905461967,
          -0.9643334905461967,
          -0.9643334905461967,
          -0.9643334905461967,
          2.9407386215917946,
          -0.9643334905461967,
          -0.9643334905461967,
          4.061214012392128,
          -0.9643334905461967,
          -0.9643334905461967,
          -0.9643334905461967,
          -0.9643334905461967,
          -0.9643334905461967,
          -0.9643334905461967,
          -0.9643334905461967,
          2.9407386215917946,
          -0.9643334905461967,
          -0.9643334905461967
         ],
         "xaxis": "x",
         "y": [
          -1.5745902111515957,
          -1.5745902111516015,
          -1.5745902111516015,
          -1.5745902111516015,
          -1.5745902111516015,
          -1.5745902111516015,
          -1.5745902111516015,
          -1.5745902111516015,
          -1.5745902111516015,
          -1.5745902111516015,
          -1.5745902111516015,
          -1.5745902111516015,
          -1.5745902111516015,
          -1.5745902111516015,
          -1.5745902111516015,
          -1.5745902111516015,
          -1.5745902111516015,
          -1.5745902111516015,
          -1.5745902111516015,
          -1.5745902111516015,
          -1.5745902111516015,
          -1.5745902111516015,
          -1.5715645275420846,
          0.2596002798162349,
          -1.5745902111516015,
          -1.2855749733672073,
          -0.6574949656676833,
          -1.5745902111516015,
          -1.5745902111516015,
          -1.5745902111516015,
          -1.5745902111516015,
          -1.5745902111516015,
          -2.057119836909391,
          -1.5745902111516015,
          -1.5745902111516015,
          -1.5745902111516015,
          -1.5745902111516015,
          -1.5745902111516015,
          -1.5745902111516015,
          -1.5745902111516015,
          -1.5745902111516015,
          -1.5745902111516015,
          -1.5745902111516015,
          -1.5745902111516015,
          -2.057119836909391,
          -1.5745902111516015,
          -1.5745902111516015,
          -1.5745902111516015,
          -1.5745902111516015,
          -1.5745902111516015,
          -1.5745902111516015,
          -1.5745902111516015,
          -1.2855749733672073,
          -1.5745902111516015,
          -1.5745902111516015,
          -1.3457432965723586,
          -1.5745902111516015,
          -1.5745902111516015,
          -1.5715645275420846,
          -1.5745902111516015,
          -1.5745902111516015,
          -1.5745902111516015,
          -1.5745902111516015,
          -2.263121212231614,
          -1.5745902111516015,
          -1.5745902111516015,
          -1.5745902111516015,
          -1.5745902111516015,
          -1.5745902111516015,
          -1.5745902111516015,
          -1.5745902111516015,
          -1.5745902111516015,
          -1.5745902111516015,
          -1.5745902111516015,
          -1.5745902111516015,
          -1.5745902111516015,
          -1.5745902111516015,
          -2.263121212231614,
          -1.5715645275420846,
          -1.5745902111516015,
          0.2596002798162349,
          -1.5745902111516015,
          -1.5745902111516015,
          -1.5745902111516015,
          -1.5745902111516015,
          0.2596002798162349,
          0.2596002798162349,
          -0.6574949656676833,
          -1.5745902111516015,
          -1.5745902111516015,
          -1.5745902111516015,
          -1.5745902111516015,
          -1.5745902111516015,
          -1.2855749733672073,
          -1.2855749733672073,
          -1.2855749733672073,
          -1.2855749733672073,
          -2.263121212231614,
          -2.057119836909391,
          -2.263121212231614,
          -2.057119836909391,
          -1.5715645275420846,
          -1.5715645275420846,
          -0.6574949656676833,
          -0.6574949656676833,
          -1.5745902111516015,
          -1.5745902111516015,
          -1.5745902111516015,
          -1.5745902111516015,
          -1.5745902111516015,
          -1.5745902111516015,
          -1.5745902111516015,
          -1.5745902111516015,
          -1.5745902111516015,
          -1.5745902111516015,
          -1.5745902111516015,
          -1.5745902111516015,
          -0.6574949656676833,
          -1.5745902111516015,
          -1.5745902111516015,
          -1.5745902111516015,
          -1.5745902111516015,
          -1.5745902111516015,
          -1.5745902111516015,
          -1.5745902111516015,
          -1.5745902111516015,
          -1.5745902111516015,
          -1.5745902111516015,
          0.2596002798162349,
          0.2596002798162349,
          0.2596002798162349,
          0.2596002798162349,
          0.2596002798162349,
          0.2596002798162349,
          -1.5745902111516015,
          -1.5745902111516015,
          -1.5745902111516015,
          -1.5745902111516015,
          -1.5745902111516015,
          -1.5715645275420846,
          -1.5745902111516015,
          -1.5745902111516015,
          -1.5745902111516015,
          -1.5745902111516015,
          -1.2855749733672073,
          -1.2855749733672073,
          -1.2571934210870226,
          -1.2855749733672073,
          -0.6574949656676833,
          -1.5745902111516015,
          -0.6574949656676833,
          -1.5745902111516017,
          -1.2855749733672073,
          -1.5745902111516015,
          -1.5745902111516015,
          -1.5745902111516015,
          -1.5745902111516015,
          -1.5745902111516015,
          -1.5745902111516015,
          -1.5745902111516015,
          -1.5745902111516015,
          -2.263121212231614,
          -1.5745902111516015,
          -1.5745902111516015,
          -1.5745902111516015,
          -1.5745902111516015,
          -1.5745902111516015,
          -1.2855749733672073,
          -1.2855749733672073,
          -1.2855749733672073,
          -1.2571934210870226,
          -1.5745902111516015,
          0.2596002798162349,
          -1.5745902111516015,
          -2.057119836909391,
          -1.5745902111516015,
          -1.5745902111516015,
          -1.5745902111516015,
          -1.5745902111516015,
          -1.5745902111516015,
          -1.5745902111516015,
          -1.5745902111516015,
          -1.5745902111516015,
          -1.5745902111516015,
          -1.5745902111516015,
          -1.5745902111516015,
          -1.5745902111516015,
          -1.5745902111516015,
          -1.5745902111516015,
          -1.5745902111516015,
          -1.5745902111516015,
          -1.3457432965723586,
          -1.5745902111516015,
          -1.5745902111516015,
          -1.5745902111516015,
          -1.5745902111516015,
          -1.5745902111516015,
          0.2596002798162349,
          0.2596002798162349,
          0.2596002798162349,
          0.2596002798162349,
          0.2596002798162349,
          0.2596002798162349,
          0.2596002798162349,
          -1.5745902111516015,
          0.2596002798162349,
          0.2596002798162349,
          0.5486155176006294,
          0.5486155176006294,
          -1.5745902111516015,
          -1.5745902111516015,
          -1.5745902111516015,
          -1.5745902111516015,
          -1.5745902111516015,
          0.2596002798162349,
          -1.5745902111516015,
          -1.5715645275420846,
          -1.5745902111516015,
          -1.5745902111516015,
          -1.5745902111516015,
          -1.5745902111516015,
          -1.5745902111516015,
          -1.5745902111516015,
          -1.5745902111516015,
          -1.5745902111516015,
          -1.6408146194512825,
          -1.5745902111516015,
          -1.5745902111516015,
          -1.5745902111516017,
          -1.5745902111516017,
          -1.5745902111516017,
          -1.5745902111516017,
          -1.5745902111516017,
          -1.5745902111516017,
          -1.5745902111516017,
          -1.5745902111516017,
          -1.5745902111516017,
          -1.5745902111516015,
          -1.5745902111516015,
          -1.5745902111516015,
          0.2596002798162349,
          0.2596002798162349,
          -1.5745902111516015,
          -1.5745902111516015,
          -1.5745902111516015,
          -1.5745902111516015,
          -1.5745902111516015,
          -2.057119836909391,
          -1.5745902111516015,
          -1.5745902111516015,
          -1.5745902111516015,
          -1.5745902111516015,
          -1.5745902111516015,
          -1.5745902111516015,
          -1.5745902111516015,
          -1.5745902111516015,
          -1.5745902111516015,
          -1.5745902111516015,
          -1.5745902111516015,
          -1.5745902111516015,
          -1.5745902111516015,
          0.2596002798162349,
          -1.5715645275420846,
          0.11036200905438222,
          -1.5745902111516015,
          0.2596002798162349,
          -1.5745902111516015,
          -1.5745902111516015,
          -0.9965597355828127,
          -0.9965597355828127,
          -1.2855749733672073,
          0.11036200905438222,
          -1.2855749733672073,
          -1.5745902111516015,
          -1.5745902111516015,
          -2.057119836909391,
          -1.5745902111516015,
          -1.2855749733672073,
          -2.263121212231614,
          -1.5715645275420846,
          0.2596002798162349,
          -1.5745902111516015,
          -1.5715645275420846,
          -1.5745902111516015,
          -1.5745902111516015,
          -1.5745902111516015,
          -1.5745902111516015,
          -1.5745902111516015,
          -1.5745902111516015,
          -1.5745902111516015,
          -1.5745902111516015,
          -1.5745902111516015,
          -1.5745902111516015,
          -1.5745902111516015,
          0.2596002798162349,
          -1.5745902111516015,
          -1.5745902111516015,
          -1.5745902111516015,
          -1.5745902111516015,
          -1.5745902111516015,
          -1.5745902111516015,
          -1.5745902111516015,
          -1.5745902111516015,
          -1.5745902111516015,
          -1.2855749733672073,
          0.2596002798162349,
          -1.5745902111516015,
          0.2596002798162349,
          -1.5745902111516015,
          -2.263121212231614,
          -1.5745902111516015,
          -1.5745902111516015,
          -1.2855749733672073,
          -2.263121212231614,
          -1.5745902111516015,
          -1.5745902111516015,
          -1.5745902111516015,
          -1.5745902111516015,
          -1.5745902111516015,
          0.2596002798162349,
          -1.5715645275420846,
          -1.5745902111516015,
          -1.5715645275420846,
          -1.5745902111516015,
          -0.9965597355828127,
          -2.263121212231614,
          -2.263121212231614,
          -1.2855749733672073,
          -1.5745902111516015,
          -0.9965597355828127,
          -1.5745902111516015,
          -2.057119836909391,
          -1.5745902111516015,
          -1.2855749733672073,
          -1.5745902111516015,
          -1.5745902111516015,
          -1.5745902111516015,
          -1.2855749733672073,
          -1.2855749733672073,
          -1.5745902111516015,
          -1.5745902111516015,
          -1.5745902111516015,
          -0.9965597355828127,
          -2.057119836909391,
          -2.057119836909391,
          -1.2855749733672073,
          -2.057119836909391,
          -1.5745902111516015,
          -2.057119836909391,
          -1.5745902111516015,
          -1.5745902111516015,
          -1.5745902111516015,
          -1.5745902111516015,
          0.2596002798162349,
          0.2596002798162349,
          0.2596002798162349,
          -1.5745902111516015,
          0.2596002798162349,
          -1.5745902111516015,
          -1.5745902111516015,
          -1.5745902111516015,
          -1.5745902111516015,
          -1.5745902111516015,
          -1.5745902111516015,
          -1.5745902111516015,
          -1.5745902111516015,
          -1.5745902111516015,
          -1.5745902111516015,
          -1.5745902111516015,
          -1.2855749733672073,
          -1.5745902111516015,
          -1.5745902111516015,
          -1.5745902111516015,
          -1.5745902111516015,
          -1.5745902111516015,
          -1.5745902111516015,
          -1.5745902111516015,
          -1.5745902111516015,
          -1.5745902111516015,
          -1.5745902111516015,
          -1.5745902111516015,
          -1.5745902111516015,
          -1.5745902111516015,
          -1.5745902111516015,
          -1.5745902111516015,
          -1.5745902111516015,
          -1.5745902111516015,
          -1.5745902111516015,
          -1.5745902111516015,
          -1.5745902111516015,
          -1.5745902111516015,
          -1.5745902111516015,
          -2.263121212231614,
          -1.5715645275420846,
          -1.5745902111516015,
          -1.4601667538619802,
          -1.3457432965723586,
          -1.4601667538619802,
          -0.8821362782931911,
          -1.1711515160775856,
          -1.9426963796197694,
          -1.4601667538619802,
          -1.1711515160775856,
          -1.1711515160775856,
          -1.4601667538619802,
          -1.4571410702524634,
          -1.5745902111516015,
          -1.5745902111516015,
          -1.5745902111516015,
          -2.263121212231614,
          -1.5745902111516015,
          0.2596002798162349,
          -1.5745902111516015,
          -1.5745902111516015,
          -1.4601667538619802,
          -1.5745902111516015,
          -2.1486977549419923,
          -1.4601667538619802,
          0.2596002798162349,
          -0.6574949656676833,
          -1.2855749733672073,
          -0.6574949656676833,
          -1.5745902111516015,
          -1.5745902111516015,
          -2.057119836909391,
          -1.5745902111516015,
          -1.5745902111516015,
          -1.5745902111516015,
          -1.5745902111516015,
          -1.4601667538619802,
          -1.4601667538619802,
          0.3740237371058565,
          0.3740237371058565,
          -0.8821362782931911,
          -1.4601667538619802,
          -1.4601667538619802,
          -1.1711515160775856,
          -1.4601667538619802,
          -1.5745902111516015,
          -1.5745902111516015,
          -1.5745902111516015,
          -1.5745902111516015,
          -1.5745902111516015,
          -1.5745902111516015,
          -1.5745902111516015,
          -1.5745902111516015,
          -1.5745902111516015,
          -1.5745902111516015,
          -1.5745902111516015,
          -1.5745902111516015,
          -1.5745902111516015,
          -1.5745902111516015,
          -1.5745902111516015,
          -1.5745902111516015,
          -1.5745902111516015,
          -1.5745902111516015,
          -1.5745902111516015,
          -1.5745902111516015,
          -1.5745902111516015,
          -1.5745902111516015,
          -1.5745902111516015,
          -1.5745902111516015,
          -1.5745902111516015,
          -1.5745902111516015,
          -1.5745902111516012,
          -1.5745902111516015,
          -1.3457432965723586,
          -1.5745902111516015,
          -1.5745902111516015,
          -1.5745902111516015,
          -1.5745902111516015,
          -1.5745902111516015,
          -1.5745902111516015,
          -1.5745902111516015,
          -1.5745902111516015,
          -1.5745902111516015,
          -1.5745902111516015,
          -1.5745902111516015,
          -1.5745902111516015,
          -1.5745902111516015,
          -1.5745902111516015,
          -1.5745902111516015,
          -1.5745902111516015,
          -1.5745902111516015,
          -1.2855749733672073,
          -1.5745902111516015,
          -1.5745902111516015,
          -1.5745902111516015,
          -1.5745902111516015,
          -1.5745902111516015,
          -1.5745902111516015,
          -1.5745902111516015,
          -1.5745902111516015,
          -1.5745902111516015,
          -1.5745902111516015,
          -1.5745902111516015,
          -1.5745902111516015,
          -1.5745902111516015,
          -1.5745902111516015,
          -1.5745902111516015,
          -1.5745902111516015,
          -1.5745902111516015,
          -1.5745902111516015,
          -1.5745902111516015,
          -1.5745902111516015,
          -1.5745902111516015,
          -1.5745902111516015,
          -1.5745902111516015,
          -1.5745902111516015,
          -1.5745902111516015,
          -1.5745902111516015,
          -1.5745902111516015,
          -1.5745902111516015,
          -1.5745902111516015,
          -1.5745902111516015,
          -1.5745902111516015,
          -1.5745902111516015,
          -1.5745902111516015,
          -1.5745902111516015,
          -1.5745902111516015,
          -1.5745902111516015,
          -1.5745902111516015,
          -1.5745902111516015,
          -1.5745902111516015,
          -1.5745902111516015,
          -1.5745902111516015,
          -1.5745902111516015,
          0.14607407069549458,
          -1.5745902111516015,
          -1.5745902111516015,
          -1.2855749733672073,
          -1.5745902111516017,
          -1.5745902111516015,
          -1.5745902111516015,
          -1.5745902111516015,
          -1.5745902111516015,
          -1.5745902111516015,
          -1.5745902111516015,
          -1.5745902111516015,
          0.2596002798162349,
          -1.5745902111516015,
          -1.5745902111516015,
          -1.5745902111516015,
          -1.5745902111516015,
          -1.5745902111516015,
          -1.5745902111516015,
          -1.5745902111516015,
          -1.5745902111516015,
          -1.5745902111516015,
          -1.3457432965723586,
          -1.5745902111516015,
          -1.5745902111516015,
          -1.5745902111516015,
          -1.5745902111516015,
          -1.5745902111516015,
          -1.5745902111516015,
          -1.5745902111516015,
          -1.5745902111516015,
          -1.5745902111516015,
          -1.5745902111516015,
          -1.5745902111516015,
          -1.5745902111516015,
          -1.5745902111516015,
          0.2596002798162349,
          -1.5745902111516015,
          -1.5745902111516015,
          -1.5745902111516015,
          -1.5715645275420846,
          -1.5745902111516015,
          -1.5745902111516015,
          -1.5745902111516015,
          -1.5745902111516015,
          0.2596002798162349,
          -1.5745902111516015,
          -1.5745902111516015,
          -1.5745902111516015,
          -1.5745902111516015,
          -1.5745902111516015,
          -1.5745902111516015,
          -0.9965597355828127,
          -1.5745902111516015,
          -1.5745902111516015,
          -1.5745902111516015,
          -1.5745902111516015,
          -1.5745902111516015,
          -1.5745902111516015,
          -1.5745902111516015,
          -1.5745902111516015,
          -1.5745902111516015,
          -1.5745902111516015,
          -1.5745902111516015,
          -1.5745902111516015,
          -1.5745902111516015,
          -1.5745902111516015,
          -1.5745902111516015,
          -1.5745902111516015,
          -1.5745902111516015,
          -2.057119836909391,
          -1.5745902111516015,
          -1.5745902111516015,
          -1.5715645275420846,
          -1.5745902111516015,
          -1.5745902111516015,
          -1.5745902111516015,
          -1.5745902111516015,
          -1.5745902111516015,
          -1.5745902111516015,
          -1.5745902111516015,
          -2.057119836909391,
          -1.5745902111516015,
          -1.5745902111516015
         ],
         "yaxis": "y"
        },
        {
         "customdata": [
          [
           "POST"
          ],
          [
           "POST"
          ],
          [
           "POST"
          ],
          [
           "POST"
          ],
          [
           "POST"
          ],
          [
           "POST"
          ],
          [
           "POST"
          ],
          [
           "POST"
          ],
          [
           "POST"
          ],
          [
           "POST"
          ],
          [
           "POST"
          ],
          [
           "POST"
          ],
          [
           "POST"
          ],
          [
           "POST"
          ],
          [
           "POST"
          ],
          [
           "POST"
          ],
          [
           "POST"
          ],
          [
           "POST"
          ],
          [
           "POST"
          ],
          [
           "POST"
          ],
          [
           "POST"
          ],
          [
           "POST"
          ],
          [
           "POST"
          ],
          [
           "POST"
          ],
          [
           "POST"
          ],
          [
           "POST"
          ],
          [
           "GET"
          ],
          [
           "POST"
          ],
          [
           "GET"
          ],
          [
           "POST"
          ],
          [
           "GET"
          ],
          [
           "POST"
          ],
          [
           "GET"
          ],
          [
           "POST"
          ],
          [
           "GET"
          ],
          [
           "POST"
          ],
          [
           "POST"
          ],
          [
           "POST"
          ],
          [
           "POST"
          ],
          [
           "POST"
          ],
          [
           "GET"
          ],
          [
           "POST"
          ],
          [
           "GET"
          ],
          [
           "GET"
          ],
          [
           "POST"
          ],
          [
           "POST"
          ],
          [
           "POST"
          ],
          [
           "GET"
          ],
          [
           "POST"
          ],
          [
           "POST"
          ],
          [
           "GET"
          ],
          [
           "POST"
          ],
          [
           "POST"
          ],
          [
           "POST"
          ],
          [
           "POST"
          ],
          [
           "POST"
          ],
          [
           "POST"
          ],
          [
           "POST"
          ],
          [
           "POST"
          ],
          [
           "POST"
          ],
          [
           "POST"
          ],
          [
           "POST"
          ],
          [
           "POST"
          ],
          [
           "POST"
          ],
          [
           "POST"
          ],
          [
           "POST"
          ],
          [
           "POST"
          ],
          [
           "POST"
          ],
          [
           "POST"
          ],
          [
           "POST"
          ],
          [
           "POST"
          ],
          [
           "POST"
          ],
          [
           "POST"
          ],
          [
           "POST"
          ],
          [
           "GET"
          ],
          [
           "GET"
          ],
          [
           "GET"
          ],
          [
           "GET"
          ],
          [
           "GET"
          ],
          [
           "GET"
          ],
          [
           "GET"
          ],
          [
           "GET"
          ],
          [
           "GET"
          ],
          [
           "GET"
          ],
          [
           "GET"
          ],
          [
           "GET"
          ],
          [
           "POST"
          ],
          [
           "GET"
          ],
          [
           "POST"
          ],
          [
           "GET"
          ],
          [
           "POST"
          ],
          [
           "POST"
          ],
          [
           "POST"
          ],
          [
           "POST"
          ],
          [
           "POST"
          ],
          [
           "POST"
          ],
          [
           "POST"
          ],
          [
           "POST"
          ],
          [
           "POST"
          ],
          [
           "POST"
          ],
          [
           "POST"
          ],
          [
           "POST"
          ],
          [
           "POST"
          ],
          [
           "POST"
          ],
          [
           "POST"
          ],
          [
           "POST"
          ],
          [
           "POST"
          ],
          [
           "POST"
          ],
          [
           "POST"
          ],
          [
           "POST"
          ],
          [
           "POST"
          ],
          [
           "POST"
          ],
          [
           "POST"
          ],
          [
           "POST"
          ],
          [
           "POST"
          ],
          [
           "POST"
          ],
          [
           "POST"
          ],
          [
           "POST"
          ],
          [
           "POST"
          ],
          [
           "POST"
          ],
          [
           "POST"
          ],
          [
           "GET"
          ],
          [
           "POST"
          ],
          [
           "POST"
          ],
          [
           "POST"
          ],
          [
           "POST"
          ],
          [
           "POST"
          ],
          [
           "POST"
          ],
          [
           "POST"
          ],
          [
           "POST"
          ],
          [
           "POST"
          ],
          [
           "POST"
          ],
          [
           "GET"
          ],
          [
           "POST"
          ],
          [
           "POST"
          ],
          [
           "POST"
          ],
          [
           "POST"
          ],
          [
           "POST"
          ],
          [
           "POST"
          ],
          [
           "POST"
          ],
          [
           "GET"
          ],
          [
           "POST"
          ],
          [
           "GET"
          ],
          [
           "GET"
          ],
          [
           "POST"
          ],
          [
           "POST"
          ],
          [
           "GET"
          ],
          [
           "POST"
          ],
          [
           "POST"
          ],
          [
           "POST"
          ],
          [
           "GET"
          ],
          [
           "GET"
          ],
          [
           "POST"
          ],
          [
           "POST"
          ],
          [
           "POST"
          ],
          [
           "GET"
          ],
          [
           "GET"
          ],
          [
           "POST"
          ],
          [
           "POST"
          ],
          [
           "GET"
          ],
          [
           "GET"
          ],
          [
           "GET"
          ],
          [
           "GET"
          ],
          [
           "GET"
          ],
          [
           "GET"
          ],
          [
           "GET"
          ],
          [
           "GET"
          ],
          [
           "GET"
          ],
          [
           "POST"
          ],
          [
           "POST"
          ],
          [
           "POST"
          ],
          [
           "POST"
          ],
          [
           "POST"
          ],
          [
           "POST"
          ],
          [
           "POST"
          ],
          [
           "GET"
          ],
          [
           "POST"
          ],
          [
           "POST"
          ],
          [
           "POST"
          ],
          [
           "GET"
          ],
          [
           "POST"
          ],
          [
           "GET"
          ],
          [
           "GET"
          ],
          [
           "POST"
          ],
          [
           "GET"
          ],
          [
           "GET"
          ],
          [
           "POST"
          ],
          [
           "POST"
          ],
          [
           "GET"
          ],
          [
           "GET"
          ],
          [
           "POST"
          ],
          [
           "POST"
          ],
          [
           "GET"
          ],
          [
           "POST"
          ],
          [
           "POST"
          ],
          [
           "GET"
          ],
          [
           "GET"
          ],
          [
           "POST"
          ],
          [
           "POST"
          ],
          [
           "POST"
          ],
          [
           "POST"
          ],
          [
           "POST"
          ],
          [
           "POST"
          ],
          [
           "POST"
          ],
          [
           "POST"
          ],
          [
           "POST"
          ],
          [
           "POST"
          ],
          [
           "POST"
          ],
          [
           "POST"
          ],
          [
           "POST"
          ],
          [
           "POST"
          ],
          [
           "POST"
          ],
          [
           "POST"
          ],
          [
           "POST"
          ],
          [
           "POST"
          ],
          [
           "POST"
          ],
          [
           "POST"
          ],
          [
           "POST"
          ],
          [
           "POST"
          ],
          [
           "POST"
          ],
          [
           "GET"
          ],
          [
           "POST"
          ],
          [
           "GET"
          ],
          [
           "POST"
          ],
          [
           "POST"
          ],
          [
           "POST"
          ],
          [
           "POST"
          ],
          [
           "POST"
          ],
          [
           "POST"
          ],
          [
           "POST"
          ],
          [
           "POST"
          ],
          [
           "POST"
          ],
          [
           "POST"
          ],
          [
           "POST"
          ],
          [
           "POST"
          ],
          [
           "POST"
          ],
          [
           "POST"
          ],
          [
           "POST"
          ],
          [
           "POST"
          ],
          [
           "POST"
          ],
          [
           "POST"
          ],
          [
           "POST"
          ],
          [
           "POST"
          ],
          [
           "POST"
          ],
          [
           "POST"
          ],
          [
           "POST"
          ],
          [
           "POST"
          ],
          [
           "POST"
          ],
          [
           "GET"
          ],
          [
           "GET"
          ],
          [
           "GET"
          ],
          [
           "GET"
          ],
          [
           "POST"
          ],
          [
           "GET"
          ],
          [
           "POST"
          ],
          [
           "POST"
          ],
          [
           "POST"
          ],
          [
           "POST"
          ],
          [
           "POST"
          ],
          [
           "POST"
          ],
          [
           "POST"
          ],
          [
           "POST"
          ],
          [
           "POST"
          ],
          [
           "POST"
          ],
          [
           "POST"
          ],
          [
           "POST"
          ],
          [
           "POST"
          ],
          [
           "POST"
          ],
          [
           "POST"
          ],
          [
           "GET"
          ],
          [
           "GET"
          ],
          [
           "GET"
          ],
          [
           "GET"
          ],
          [
           "GET"
          ],
          [
           "GET"
          ],
          [
           "GET"
          ],
          [
           "GET"
          ],
          [
           "GET"
          ],
          [
           "GET"
          ],
          [
           "POST"
          ],
          [
           "POST"
          ],
          [
           "POST"
          ],
          [
           "POST"
          ],
          [
           "POST"
          ],
          [
           "GET"
          ],
          [
           "GET"
          ],
          [
           "GET"
          ],
          [
           "POST"
          ],
          [
           "GET"
          ],
          [
           "GET"
          ],
          [
           "POST"
          ],
          [
           "POST"
          ],
          [
           "POST"
          ],
          [
           "POST"
          ],
          [
           "POST"
          ],
          [
           "POST"
          ],
          [
           "POST"
          ],
          [
           "POST"
          ],
          [
           "POST"
          ],
          [
           "POST"
          ],
          [
           "POST"
          ],
          [
           "POST"
          ],
          [
           "POST"
          ],
          [
           "POST"
          ],
          [
           "POST"
          ],
          [
           "POST"
          ],
          [
           "POST"
          ],
          [
           "POST"
          ],
          [
           "GET"
          ],
          [
           "POST"
          ],
          [
           "POST"
          ],
          [
           "GET"
          ]
         ],
         "hovertemplate": "Cluster=Cluster 1<br>PCA1=%{x}<br>PCA2=%{y}<br>Feature=%{customdata[0]}<extra></extra>",
         "legendgroup": "Cluster 1",
         "marker": {
          "color": "#EF553B",
          "opacity": 0.5,
          "symbol": "circle"
         },
         "mode": "markers",
         "name": "Cluster 1",
         "orientation": "v",
         "showlegend": true,
         "textposition": "top center",
         "type": "scatter",
         "x": [
          0.9798146438235529,
          0.593559976283733,
          -0.6224399632389719,
          1.1133155805689017,
          -0.6224399632389719,
          -0.29689766449726196,
          16.73820074980039,
          0.9798146438235529,
          1.1133155805689017,
          0.593559976283733,
          -0.6224399632389719,
          -0.6224399632389719,
          -0.6224399632389719,
          -0.6224399632389719,
          0.46005903953838423,
          0.593559976283733,
          0.593559976283733,
          0.593559976283733,
          -0.6224399632389719,
          -0.6224399632389719,
          0.593559976283733,
          -0.6224399632389719,
          -0.6224399632389719,
          0.593559976283733,
          -0.7162433289599237,
          -0.6891560027727416,
          0.46005903953838423,
          -0.6224399632389719,
          -0.8309014114786571,
          0.46005903953838423,
          -0.8309014114786571,
          -0.7162433289599237,
          -0.8309014114786571,
          0.593559976283733,
          -0.8309014114786571,
          -0.8226569395180904,
          -0.6891560027727416,
          0.46005903953838423,
          0.593559976283733,
          0.030816577791545934,
          -0.8226569395180904,
          1.1133155805689017,
          -0.8226569395180904,
          0.46005903953838423,
          1.1133155805689017,
          16.73820074980039,
          1.1133155805689017,
          1.1133155805689017,
          -0.8642594312455423,
          0.46005903953838423,
          16.73820074980039,
          -0.6224399632389719,
          0.46005903953838423,
          4.073755399551534,
          0.6602760158175026,
          4.073755399551534,
          1.1133155805689017,
          1.1133155805689017,
          1.1133155805689017,
          -0.8226569395180904,
          -0.8226569395180904,
          -0.7162433289599237,
          -0.8226569395180904,
          -0.7162433289599237,
          -0.6891560027727416,
          0.16431751453689478,
          -0.6891560027727416,
          0.16431751453689478,
          -0.6891560027727416,
          -0.6891560027727416,
          0.16431751453689478,
          1.1133155805689017,
          -0.6891560027727416,
          1.1133155805689017,
          1.1133155805689017,
          1.1133155805689017,
          1.1133155805689017,
          0.593559976283733,
          -0.29689766449726196,
          -0.29689766449726196,
          1.1133155805689017,
          1.1133155805689017,
          0.593559976283733,
          -0.29689766449726196,
          -0.29689766449726196,
          0.46005903953838423,
          16.73820074980039,
          -0.8226569395180904,
          16.73820074980039,
          -0.8226569395180904,
          1.1133155805689017,
          0.16431751453689478,
          -0.6891560027727416,
          -0.29689766449726196,
          1.1800316201026715,
          1.1800316201026715,
          1.1800316201026715,
          1.1800316201026715,
          -0.8309014114786571,
          -0.8309014114786571,
          -0.8642594312455423,
          -0.8642594312455423,
          16.804916789334165,
          16.804916789334165,
          16.804916789334165,
          16.804916789334165,
          4.127930051925898,
          4.127930051925898,
          3.007454661125564,
          1.1800316201026715,
          1.1800316201026715,
          -0.6495272894261539,
          -0.7559408999843206,
          -0.29689766449726196,
          0.46005903953838423,
          0.6602760158175026,
          0.6602760158175026,
          0.6602760158175026,
          0.6602760158175026,
          0.6602760158175026,
          3.007454661125564,
          -0.8309014114786571,
          0.5267750790721539,
          -0.23018162496349226,
          -0.23018162496349226,
          -0.6224399632389719,
          -0.6224399632389719,
          -0.7559408999843206,
          -0.6495272894261539,
          0.5267750790721539,
          -0.8226569395180904,
          0.9798146438235529,
          -0.8309014114786571,
          1.0477538957118204,
          0.19428037840218407,
          0.2609964179359538,
          -0.6224399632389719,
          -0.19797795987329547,
          -0.19797795987329547,
          0.19428037840218407,
          0.46005903953838423,
          1.0477538957118204,
          0.46005903953838423,
          0.46005903953838423,
          0.19428037840218407,
          0.2609964179359538,
          -0.8226569395180904,
          0.9512370824378301,
          0.2609964179359538,
          1.4709926867229992,
          16.73820074980039,
          0.46005903953838423,
          0.2609964179359538,
          -0.6224399632389719,
          -0.6224399632389719,
          1.1133155805689017,
          0.9798146438235529,
          -0.6224399632389719,
          -0.6224399632389719,
          0.9798146438235529,
          0.46005903953838423,
          0.9798146438235529,
          0.46005903953838423,
          1.1133155805689017,
          -0.8226569395180904,
          1.1133155805689017,
          -0.8226569395180904,
          1.1133155805689017,
          -0.6224399632389719,
          -0.6224399632389719,
          -0.6224399632389719,
          0.2609964179359538,
          0.19428037840218407,
          -0.6224399632389719,
          -0.33147889661864427,
          1.1133155805689017,
          1.6044936234683478,
          1.0477538957118204,
          -0.6891560027727416,
          -0.7162433289599237,
          1.1133155805689017,
          1.1133155805689017,
          1.1133155805689017,
          -0.29689766449726196,
          1.1133155805689017,
          0.593559976283733,
          -0.7162433289599237,
          -0.8226569395180904,
          0.593559976283733,
          -0.6891560027727416,
          0.593559976283733,
          0.46005903953838423,
          -0.29689766449726196,
          1.1133155805689017,
          16.73820074980039,
          -0.8226569395180904,
          0.593559976283733,
          -0.29689766449726196,
          -0.6891560027727416,
          -0.7162433289599237,
          0.2609964179359538,
          0.2609964179359538,
          0.19428037840218407,
          1.6044936234683478,
          0.9512370824378301,
          1.0477538957118204,
          1.084738019183179,
          1.4709926867229992,
          1.4709926867229992,
          0.2609964179359538,
          0.2609964179359538,
          0.2609964179359538,
          1.6044936234683478,
          -0.22506528606047743,
          -0.33147889661864427,
          0.2609964179359538,
          0.2609964179359538,
          0.9512370824378301,
          -0.8226569395180904,
          17.229378792699837,
          1.1133155805689017,
          -0.6224399632389719,
          0.593559976283733,
          16.73820074980039,
          -0.29689766449726196,
          -0.8226569395180904,
          0.46005903953838423,
          0.9798146438235529,
          1.1133155805689017,
          1.1133155805689017,
          1.1133155805689017,
          1.1133155805689017,
          -0.7162433289599237,
          1.1133155805689017,
          -0.8226569395180904,
          0.46005903953838423,
          1.1133155805689017,
          0.46005903953838423,
          -0.8226569395180904,
          -0.8226569395180904,
          1.1133155805689017,
          16.73820074980039,
          -0.7162433289599237,
          -0.6891560027727416,
          0.9798146438235529,
          -0.7162433289599237,
          0.593559976283733,
          1.1133155805689017,
          -0.8309014114786571,
          -0.8309014114786571,
          -0.8309014114786571,
          -0.8309014114786571,
          -0.29689766449726196,
          -0.8309014114786571,
          -0.6891560027727416,
          1.1133155805689017,
          -0.29689766449726196,
          0.030816577791545934,
          16.73820074980039,
          0.46005903953838423,
          1.1133155805689017,
          0.46005903953838423,
          0.46005903953838423,
          -0.29689766449726196,
          -0.8226569395180904,
          -0.7162433289599237,
          0.16431751453689478,
          16.73820074980039,
          0.46005903953838423,
          -0.8226569395180904,
          -0.29689766449726196,
          -0.6891560027727416,
          0.46005903953838423,
          0.46005903953838423,
          0.9798146438235529,
          0.46005903953838423,
          0.9798146438235529,
          0.46005903953838423,
          0.9798146438235529,
          0.593559976283733,
          0.593559976283733,
          0.593559976283733,
          -0.6224399632389719,
          -0.6224399632389719,
          0.593559976283733,
          0.593559976283733,
          0.593559976283733,
          0.9798146438235529,
          -0.8309014114786571,
          -0.7162433289599237,
          -0.29689766449726196,
          1.1133155805689017,
          -0.6891560027727416,
          1.1133155805689017,
          1.1133155805689017,
          1.1133155805689017,
          -0.4052469692459896,
          -0.6891560027727416,
          0.16431751453689478,
          -0.8226569395180904,
          -0.6891560027727416,
          -0.6891560027727416,
          -0.6891560027727416,
          0.593559976283733,
          -0.8226569395180904,
          -0.29689766449726196,
          0.16431751453689478,
          0.16431751453689478,
          16.73820074980039,
          -0.6891560027727416,
          -0.29689766449726196,
          0.46005903953838423
         ],
         "xaxis": "x",
         "y": [
          1.404713356230614,
          4.340332488154042,
          4.393787238929559,
          1.722110146295194,
          4.393787238929559,
          3.3633779310423897,
          -2.2053226814040094,
          1.404713356230614,
          1.722110146295194,
          4.340332488154042,
          4.393787238929559,
          4.393787238929559,
          4.393787238929559,
          4.393787238929559,
          4.022935698089463,
          4.340332488154042,
          4.340332488154042,
          4.340332488154042,
          4.393787238929559,
          4.393787238929559,
          4.340332488154042,
          4.393787238929559,
          4.393787238929559,
          4.340332488154042,
          2.213818405616957,
          2.5595967479617228,
          4.022935698089463,
          4.393787238929559,
          2.0937907707840715,
          4.022935698089463,
          2.0937907707840715,
          2.213818405616957,
          2.0937907707840715,
          4.340332488154042,
          2.0937907707840715,
          2.2421999578971423,
          2.5595967479617228,
          4.022935698089463,
          4.340332488154042,
          2.0929616871352903,
          2.2421999578971423,
          1.722110146295194,
          2.2421999578971423,
          4.022935698089463,
          1.722110146295194,
          -2.2053226814040094,
          1.722110146295194,
          1.722110146295194,
          1.176695525300153,
          4.022935698089463,
          -2.2053226814040094,
          4.393787238929559,
          4.022935698089463,
          -0.42893072126377724,
          6.174522979121878,
          -0.42893072126377724,
          1.722110146295194,
          1.722110146295194,
          1.722110146295194,
          2.2421999578971423,
          2.2421999578971423,
          2.213818405616957,
          2.2421999578971423,
          2.213818405616957,
          2.5595967479617228,
          2.4103584771998694,
          2.5595967479617228,
          2.4103584771998694,
          2.5595967479617228,
          2.5595967479617228,
          2.4103584771998694,
          1.722110146295194,
          2.5595967479617228,
          1.722110146295194,
          1.722110146295194,
          1.722110146295194,
          1.722110146295194,
          4.340332488154042,
          3.3633779310423897,
          3.3633779310423897,
          1.722110146295194,
          1.722110146295194,
          4.340332488154042,
          3.3633779310423897,
          3.3633779310423897,
          4.022935698089463,
          -2.2053226814040094,
          2.2421999578971423,
          -2.2053226814040094,
          2.2421999578971423,
          1.722110146295194,
          2.4103584771998694,
          2.5595967479617228,
          3.3633779310423897,
          3.5563006372630315,
          3.5563006372630315,
          3.5563006372630315,
          3.5563006372630315,
          2.0937907707840715,
          2.0937907707840715,
          1.176695525300153,
          1.176695525300153,
          -0.3711321904361721,
          -0.3711321904361721,
          -0.3711321904361721,
          -0.3711321904361721,
          0.2626259634257522,
          0.2626259634257522,
          -0.22292934594155422,
          3.5563006372630315,
          3.5563006372630315,
          4.048008896584794,
          4.076390448864979,
          3.3633779310423897,
          4.022935698089463,
          6.174522979121878,
          6.174522979121878,
          6.174522979121878,
          6.174522979121878,
          6.174522979121878,
          -0.22292934594155422,
          2.0937907707840715,
          5.857126189057301,
          5.197568422010227,
          5.197568422010227,
          4.393787238929559,
          4.393787238929559,
          4.076390448864979,
          4.048008896584794,
          5.857126189057301,
          2.2421999578971423,
          1.404713356230614,
          2.0937907707840715,
          3.3285631175701598,
          3.477801388332012,
          5.311991879299848,
          4.393787238929559,
          2.6740202052513444,
          2.6740202052513444,
          3.477801388332012,
          4.022935698089463,
          3.3285631175701598,
          4.022935698089463,
          4.022935698089463,
          3.477801388332012,
          5.311991879299848,
          2.2421999578971423,
          4.137359155379084,
          5.311991879299848,
          1.519136813520236,
          -2.2053226814040094,
          4.022935698089463,
          5.311991879299848,
          4.393787238929559,
          4.393787238929559,
          1.722110146295194,
          1.404713356230614,
          4.393787238929559,
          4.393787238929559,
          1.404713356230614,
          4.022935698089463,
          1.404713356230614,
          4.022935698089463,
          1.722110146295194,
          2.2421999578971423,
          1.722110146295194,
          2.2421999578971423,
          1.722110146295194,
          4.393787238929559,
          4.393787238929559,
          4.393787238929559,
          5.311991879299848,
          3.477801388332012,
          4.393787238929559,
          2.356623415186764,
          1.722110146295194,
          1.8365336035848163,
          3.3285631175701598,
          2.5595967479617228,
          2.213818405616957,
          1.722110146295194,
          1.722110146295194,
          1.722110146295194,
          3.3633779310423897,
          1.722110146295194,
          4.340332488154042,
          2.213818405616957,
          2.2421999578971423,
          4.340332488154042,
          2.5595967479617228,
          4.340332488154042,
          4.022935698089463,
          3.3633779310423897,
          1.722110146295194,
          -2.2053226814040094,
          2.2421999578971423,
          4.340332488154042,
          3.3633779310423897,
          2.5595967479617228,
          2.213818405616957,
          5.311991879299848,
          5.311991879299848,
          3.477801388332012,
          1.8365336035848163,
          4.137359155379084,
          3.3285631175701598,
          4.454755945443664,
          1.519136813520236,
          1.519136813520236,
          5.311991879299848,
          5.311991879299848,
          5.311991879299848,
          1.8365336035848163,
          2.3282418629065793,
          2.356623415186764,
          5.311991879299848,
          5.311991879299848,
          4.137359155379084,
          2.2421999578971423,
          -2.0908992241143878,
          1.722110146295194,
          4.393787238929559,
          4.340332488154042,
          -2.2053226814040094,
          3.3633779310423897,
          2.2421999578971423,
          4.022935698089463,
          1.404713356230614,
          1.722110146295194,
          1.722110146295194,
          1.722110146295194,
          1.722110146295194,
          2.213818405616957,
          1.722110146295194,
          2.2421999578971423,
          4.022935698089463,
          1.722110146295194,
          4.022935698089463,
          2.2421999578971423,
          2.2421999578971423,
          1.722110146295194,
          -2.2053226814040094,
          2.213818405616957,
          2.5595967479617228,
          1.404713356230614,
          2.213818405616957,
          4.340332488154042,
          1.722110146295194,
          2.0937907707840715,
          2.0937907707840715,
          2.0937907707840715,
          2.0937907707840715,
          3.3633779310423897,
          2.0937907707840715,
          2.5595967479617228,
          1.722110146295194,
          3.3633779310423897,
          2.0929616871352903,
          -2.2053226814040094,
          4.022935698089463,
          1.722110146295194,
          4.022935698089463,
          4.022935698089463,
          3.3633779310423897,
          2.2421999578971423,
          2.213818405616957,
          2.4103584771998694,
          -2.2053226814040094,
          4.022935698089463,
          2.2421999578971423,
          3.3633779310423897,
          2.5595967479617228,
          4.022935698089463,
          4.022935698089463,
          1.404713356230614,
          4.022935698089463,
          1.404713356230614,
          4.022935698089463,
          1.404713356230614,
          4.340332488154042,
          4.340332488154042,
          4.340332488154042,
          4.393787238929559,
          4.393787238929559,
          4.340332488154042,
          4.340332488154042,
          4.340332488154042,
          1.404713356230614,
          2.0937907707840715,
          2.213818405616957,
          3.3633779310423897,
          1.722110146295194,
          2.5595967479617228,
          1.722110146295194,
          1.722110146295194,
          1.722110146295194,
          1.9802645616633312,
          2.5595967479617228,
          2.4103584771998694,
          2.2421999578971423,
          2.5595967479617228,
          2.5595967479617228,
          2.5595967479617228,
          4.340332488154042,
          2.2421999578971423,
          3.3633779310423897,
          2.4103584771998694,
          2.4103584771998694,
          -2.2053226814040094,
          2.5595967479617228,
          3.3633779310423897,
          4.022935698089463
         ],
         "yaxis": "y"
        }
       ],
       "layout": {
        "autosize": true,
        "legend": {
         "title": {
          "text": "Cluster"
         },
         "tracegroupgap": 0
        },
        "margin": {
         "t": 60
        },
        "plot_bgcolor": "rgb(240,240,240)",
        "template": {
         "data": {
          "bar": [
           {
            "error_x": {
             "color": "#2a3f5f"
            },
            "error_y": {
             "color": "#2a3f5f"
            },
            "marker": {
             "line": {
              "color": "#E5ECF6",
              "width": 0.5
             },
             "pattern": {
              "fillmode": "overlay",
              "size": 10,
              "solidity": 0.2
             }
            },
            "type": "bar"
           }
          ],
          "barpolar": [
           {
            "marker": {
             "line": {
              "color": "#E5ECF6",
              "width": 0.5
             },
             "pattern": {
              "fillmode": "overlay",
              "size": 10,
              "solidity": 0.2
             }
            },
            "type": "barpolar"
           }
          ],
          "carpet": [
           {
            "aaxis": {
             "endlinecolor": "#2a3f5f",
             "gridcolor": "white",
             "linecolor": "white",
             "minorgridcolor": "white",
             "startlinecolor": "#2a3f5f"
            },
            "baxis": {
             "endlinecolor": "#2a3f5f",
             "gridcolor": "white",
             "linecolor": "white",
             "minorgridcolor": "white",
             "startlinecolor": "#2a3f5f"
            },
            "type": "carpet"
           }
          ],
          "choropleth": [
           {
            "colorbar": {
             "outlinewidth": 0,
             "ticks": ""
            },
            "type": "choropleth"
           }
          ],
          "contour": [
           {
            "colorbar": {
             "outlinewidth": 0,
             "ticks": ""
            },
            "colorscale": [
             [
              0,
              "#0d0887"
             ],
             [
              0.1111111111111111,
              "#46039f"
             ],
             [
              0.2222222222222222,
              "#7201a8"
             ],
             [
              0.3333333333333333,
              "#9c179e"
             ],
             [
              0.4444444444444444,
              "#bd3786"
             ],
             [
              0.5555555555555556,
              "#d8576b"
             ],
             [
              0.6666666666666666,
              "#ed7953"
             ],
             [
              0.7777777777777778,
              "#fb9f3a"
             ],
             [
              0.8888888888888888,
              "#fdca26"
             ],
             [
              1,
              "#f0f921"
             ]
            ],
            "type": "contour"
           }
          ],
          "contourcarpet": [
           {
            "colorbar": {
             "outlinewidth": 0,
             "ticks": ""
            },
            "type": "contourcarpet"
           }
          ],
          "heatmap": [
           {
            "colorbar": {
             "outlinewidth": 0,
             "ticks": ""
            },
            "colorscale": [
             [
              0,
              "#0d0887"
             ],
             [
              0.1111111111111111,
              "#46039f"
             ],
             [
              0.2222222222222222,
              "#7201a8"
             ],
             [
              0.3333333333333333,
              "#9c179e"
             ],
             [
              0.4444444444444444,
              "#bd3786"
             ],
             [
              0.5555555555555556,
              "#d8576b"
             ],
             [
              0.6666666666666666,
              "#ed7953"
             ],
             [
              0.7777777777777778,
              "#fb9f3a"
             ],
             [
              0.8888888888888888,
              "#fdca26"
             ],
             [
              1,
              "#f0f921"
             ]
            ],
            "type": "heatmap"
           }
          ],
          "heatmapgl": [
           {
            "colorbar": {
             "outlinewidth": 0,
             "ticks": ""
            },
            "colorscale": [
             [
              0,
              "#0d0887"
             ],
             [
              0.1111111111111111,
              "#46039f"
             ],
             [
              0.2222222222222222,
              "#7201a8"
             ],
             [
              0.3333333333333333,
              "#9c179e"
             ],
             [
              0.4444444444444444,
              "#bd3786"
             ],
             [
              0.5555555555555556,
              "#d8576b"
             ],
             [
              0.6666666666666666,
              "#ed7953"
             ],
             [
              0.7777777777777778,
              "#fb9f3a"
             ],
             [
              0.8888888888888888,
              "#fdca26"
             ],
             [
              1,
              "#f0f921"
             ]
            ],
            "type": "heatmapgl"
           }
          ],
          "histogram": [
           {
            "marker": {
             "pattern": {
              "fillmode": "overlay",
              "size": 10,
              "solidity": 0.2
             }
            },
            "type": "histogram"
           }
          ],
          "histogram2d": [
           {
            "colorbar": {
             "outlinewidth": 0,
             "ticks": ""
            },
            "colorscale": [
             [
              0,
              "#0d0887"
             ],
             [
              0.1111111111111111,
              "#46039f"
             ],
             [
              0.2222222222222222,
              "#7201a8"
             ],
             [
              0.3333333333333333,
              "#9c179e"
             ],
             [
              0.4444444444444444,
              "#bd3786"
             ],
             [
              0.5555555555555556,
              "#d8576b"
             ],
             [
              0.6666666666666666,
              "#ed7953"
             ],
             [
              0.7777777777777778,
              "#fb9f3a"
             ],
             [
              0.8888888888888888,
              "#fdca26"
             ],
             [
              1,
              "#f0f921"
             ]
            ],
            "type": "histogram2d"
           }
          ],
          "histogram2dcontour": [
           {
            "colorbar": {
             "outlinewidth": 0,
             "ticks": ""
            },
            "colorscale": [
             [
              0,
              "#0d0887"
             ],
             [
              0.1111111111111111,
              "#46039f"
             ],
             [
              0.2222222222222222,
              "#7201a8"
             ],
             [
              0.3333333333333333,
              "#9c179e"
             ],
             [
              0.4444444444444444,
              "#bd3786"
             ],
             [
              0.5555555555555556,
              "#d8576b"
             ],
             [
              0.6666666666666666,
              "#ed7953"
             ],
             [
              0.7777777777777778,
              "#fb9f3a"
             ],
             [
              0.8888888888888888,
              "#fdca26"
             ],
             [
              1,
              "#f0f921"
             ]
            ],
            "type": "histogram2dcontour"
           }
          ],
          "mesh3d": [
           {
            "colorbar": {
             "outlinewidth": 0,
             "ticks": ""
            },
            "type": "mesh3d"
           }
          ],
          "parcoords": [
           {
            "line": {
             "colorbar": {
              "outlinewidth": 0,
              "ticks": ""
             }
            },
            "type": "parcoords"
           }
          ],
          "pie": [
           {
            "automargin": true,
            "type": "pie"
           }
          ],
          "scatter": [
           {
            "fillpattern": {
             "fillmode": "overlay",
             "size": 10,
             "solidity": 0.2
            },
            "type": "scatter"
           }
          ],
          "scatter3d": [
           {
            "line": {
             "colorbar": {
              "outlinewidth": 0,
              "ticks": ""
             }
            },
            "marker": {
             "colorbar": {
              "outlinewidth": 0,
              "ticks": ""
             }
            },
            "type": "scatter3d"
           }
          ],
          "scattercarpet": [
           {
            "marker": {
             "colorbar": {
              "outlinewidth": 0,
              "ticks": ""
             }
            },
            "type": "scattercarpet"
           }
          ],
          "scattergeo": [
           {
            "marker": {
             "colorbar": {
              "outlinewidth": 0,
              "ticks": ""
             }
            },
            "type": "scattergeo"
           }
          ],
          "scattergl": [
           {
            "marker": {
             "colorbar": {
              "outlinewidth": 0,
              "ticks": ""
             }
            },
            "type": "scattergl"
           }
          ],
          "scattermapbox": [
           {
            "marker": {
             "colorbar": {
              "outlinewidth": 0,
              "ticks": ""
             }
            },
            "type": "scattermapbox"
           }
          ],
          "scatterpolar": [
           {
            "marker": {
             "colorbar": {
              "outlinewidth": 0,
              "ticks": ""
             }
            },
            "type": "scatterpolar"
           }
          ],
          "scatterpolargl": [
           {
            "marker": {
             "colorbar": {
              "outlinewidth": 0,
              "ticks": ""
             }
            },
            "type": "scatterpolargl"
           }
          ],
          "scatterternary": [
           {
            "marker": {
             "colorbar": {
              "outlinewidth": 0,
              "ticks": ""
             }
            },
            "type": "scatterternary"
           }
          ],
          "surface": [
           {
            "colorbar": {
             "outlinewidth": 0,
             "ticks": ""
            },
            "colorscale": [
             [
              0,
              "#0d0887"
             ],
             [
              0.1111111111111111,
              "#46039f"
             ],
             [
              0.2222222222222222,
              "#7201a8"
             ],
             [
              0.3333333333333333,
              "#9c179e"
             ],
             [
              0.4444444444444444,
              "#bd3786"
             ],
             [
              0.5555555555555556,
              "#d8576b"
             ],
             [
              0.6666666666666666,
              "#ed7953"
             ],
             [
              0.7777777777777778,
              "#fb9f3a"
             ],
             [
              0.8888888888888888,
              "#fdca26"
             ],
             [
              1,
              "#f0f921"
             ]
            ],
            "type": "surface"
           }
          ],
          "table": [
           {
            "cells": {
             "fill": {
              "color": "#EBF0F8"
             },
             "line": {
              "color": "white"
             }
            },
            "header": {
             "fill": {
              "color": "#C8D4E3"
             },
             "line": {
              "color": "white"
             }
            },
            "type": "table"
           }
          ]
         },
         "layout": {
          "annotationdefaults": {
           "arrowcolor": "#2a3f5f",
           "arrowhead": 0,
           "arrowwidth": 1
          },
          "autotypenumbers": "strict",
          "coloraxis": {
           "colorbar": {
            "outlinewidth": 0,
            "ticks": ""
           }
          },
          "colorscale": {
           "diverging": [
            [
             0,
             "#8e0152"
            ],
            [
             0.1,
             "#c51b7d"
            ],
            [
             0.2,
             "#de77ae"
            ],
            [
             0.3,
             "#f1b6da"
            ],
            [
             0.4,
             "#fde0ef"
            ],
            [
             0.5,
             "#f7f7f7"
            ],
            [
             0.6,
             "#e6f5d0"
            ],
            [
             0.7,
             "#b8e186"
            ],
            [
             0.8,
             "#7fbc41"
            ],
            [
             0.9,
             "#4d9221"
            ],
            [
             1,
             "#276419"
            ]
           ],
           "sequential": [
            [
             0,
             "#0d0887"
            ],
            [
             0.1111111111111111,
             "#46039f"
            ],
            [
             0.2222222222222222,
             "#7201a8"
            ],
            [
             0.3333333333333333,
             "#9c179e"
            ],
            [
             0.4444444444444444,
             "#bd3786"
            ],
            [
             0.5555555555555556,
             "#d8576b"
            ],
            [
             0.6666666666666666,
             "#ed7953"
            ],
            [
             0.7777777777777778,
             "#fb9f3a"
            ],
            [
             0.8888888888888888,
             "#fdca26"
            ],
            [
             1,
             "#f0f921"
            ]
           ],
           "sequentialminus": [
            [
             0,
             "#0d0887"
            ],
            [
             0.1111111111111111,
             "#46039f"
            ],
            [
             0.2222222222222222,
             "#7201a8"
            ],
            [
             0.3333333333333333,
             "#9c179e"
            ],
            [
             0.4444444444444444,
             "#bd3786"
            ],
            [
             0.5555555555555556,
             "#d8576b"
            ],
            [
             0.6666666666666666,
             "#ed7953"
            ],
            [
             0.7777777777777778,
             "#fb9f3a"
            ],
            [
             0.8888888888888888,
             "#fdca26"
            ],
            [
             1,
             "#f0f921"
            ]
           ]
          },
          "colorway": [
           "#636efa",
           "#EF553B",
           "#00cc96",
           "#ab63fa",
           "#FFA15A",
           "#19d3f3",
           "#FF6692",
           "#B6E880",
           "#FF97FF",
           "#FECB52"
          ],
          "font": {
           "color": "#2a3f5f"
          },
          "geo": {
           "bgcolor": "white",
           "lakecolor": "white",
           "landcolor": "#E5ECF6",
           "showlakes": true,
           "showland": true,
           "subunitcolor": "white"
          },
          "hoverlabel": {
           "align": "left"
          },
          "hovermode": "closest",
          "mapbox": {
           "style": "light"
          },
          "paper_bgcolor": "white",
          "plot_bgcolor": "#E5ECF6",
          "polar": {
           "angularaxis": {
            "gridcolor": "white",
            "linecolor": "white",
            "ticks": ""
           },
           "bgcolor": "#E5ECF6",
           "radialaxis": {
            "gridcolor": "white",
            "linecolor": "white",
            "ticks": ""
           }
          },
          "scene": {
           "xaxis": {
            "backgroundcolor": "#E5ECF6",
            "gridcolor": "white",
            "gridwidth": 2,
            "linecolor": "white",
            "showbackground": true,
            "ticks": "",
            "zerolinecolor": "white"
           },
           "yaxis": {
            "backgroundcolor": "#E5ECF6",
            "gridcolor": "white",
            "gridwidth": 2,
            "linecolor": "white",
            "showbackground": true,
            "ticks": "",
            "zerolinecolor": "white"
           },
           "zaxis": {
            "backgroundcolor": "#E5ECF6",
            "gridcolor": "white",
            "gridwidth": 2,
            "linecolor": "white",
            "showbackground": true,
            "ticks": "",
            "zerolinecolor": "white"
           }
          },
          "shapedefaults": {
           "line": {
            "color": "#2a3f5f"
           }
          },
          "ternary": {
           "aaxis": {
            "gridcolor": "white",
            "linecolor": "white",
            "ticks": ""
           },
           "baxis": {
            "gridcolor": "white",
            "linecolor": "white",
            "ticks": ""
           },
           "bgcolor": "#E5ECF6",
           "caxis": {
            "gridcolor": "white",
            "linecolor": "white",
            "ticks": ""
           }
          },
          "title": {
           "x": 0.05
          },
          "xaxis": {
           "automargin": true,
           "gridcolor": "white",
           "linecolor": "white",
           "ticks": "",
           "title": {
            "standoff": 15
           },
           "zerolinecolor": "white",
           "zerolinewidth": 2
          },
          "yaxis": {
           "automargin": true,
           "gridcolor": "white",
           "linecolor": "white",
           "ticks": "",
           "title": {
            "standoff": 15
           },
           "zerolinecolor": "white",
           "zerolinewidth": 2
          }
         }
        },
        "title": {
         "text": "2D Cluster PCA Plot"
        },
        "xaxis": {
         "anchor": "y",
         "autorange": true,
         "domain": [
          0,
          1
         ],
         "range": [
          -2.070306455265,
          18.335351757418636
         ],
         "title": {
          "text": "PCA1"
         },
         "type": "linear"
        },
        "yaxis": {
         "anchor": "x",
         "autorange": true,
         "domain": [
          0,
          1
         ],
         "range": [
          -2.9164296207484854,
          6.827831387638749
         ],
         "title": {
          "text": "PCA2"
         },
         "type": "linear"
        }
       }
      },
      "image/png": "[encoded data removed]",
      "text/html": [
       "<div>                            <div id=\"60ba3276-22d2-4585-9aad-f6ffe50feaf5\" class=\"plotly-graph-div\" style=\"height:600px; width:100%;\"></div>            <script type=\"text/javascript\">                require([\"plotly\"], function(Plotly) {                    window.PLOTLYENV=window.PLOTLYENV || {};                                    if (document.getElementById(\"60ba3276-22d2-4585-9aad-f6ffe50feaf5\")) {                    Plotly.newPlot(                        \"60ba3276-22d2-4585-9aad-f6ffe50feaf5\",                        [{\"customdata\":[[\"GET\"],[\"GET\"],[\"GET\"],[\"GET\"],[\"GET\"],[\"GET\"],[\"GET\"],[\"GET\"],[\"GET\"],[\"GET\"],[\"GET\"],[\"GET\"],[\"GET\"],[\"GET\"],[\"GET\"],[\"GET\"],[\"GET\"],[\"GET\"],[\"GET\"],[\"GET\"],[\"GET\"],[\"GET\"],[\"GET\"],[\"GET\"],[\"GET\"],[\"GET\"],[\"GET\"],[\"GET\"],[\"POST\"],[\"POST\"],[\"GET\"],[\"POST\"],[\"GET\"],[\"GET\"],[\"GET\"],[\"GET\"],[\"GET\"],[\"GET\"],[\"GET\"],[\"GET\"],[\"GET\"],[\"GET\"],[\"GET\"],[\"GET\"],[\"GET\"],[\"GET\"],[\"GET\"],[\"GET\"],[\"GET\"],[\"GET\"],[\"GET\"],[\"GET\"],[\"GET\"],[\"GET\"],[\"GET\"],[\"GET\"],[\"GET\"],[\"GET\"],[\"GET\"],[\"GET\"],[\"GET\"],[\"GET\"],[\"GET\"],[\"GET\"],[\"GET\"],[\"GET\"],[\"GET\"],[\"GET\"],[\"GET\"],[\"GET\"],[\"GET\"],[\"GET\"],[\"GET\"],[\"GET\"],[\"GET\"],[\"GET\"],[\"GET\"],[\"GET\"],[\"GET\"],[\"GET\"],[\"GET\"],[\"GET\"],[\"GET\"],[\"GET\"],[\"GET\"],[\"GET\"],[\"POST\"],[\"POST\"],[\"POST\"],[\"POST\"],[\"POST\"],[\"POST\"],[\"POST\"],[\"POST\"],[\"POST\"],[\"POST\"],[\"POST\"],[\"POST\"],[\"POST\"],[\"POST\"],[\"POST\"],[\"POST\"],[\"POST\"],[\"POST\"],[\"POST\"],[\"POST\"],[\"POST\"],[\"POST\"],[\"POST\"],[\"GET\"],[\"GET\"],[\"GET\"],[\"GET\"],[\"GET\"],[\"GET\"],[\"GET\"],[\"GET\"],[\"POST\"],[\"GET\"],[\"GET\"],[\"GET\"],[\"POST\"],[\"POST\"],[\"POST\"],[\"POST\"],[\"POST\"],[\"POST\"],[\"POST\"],[\"POST\"],[\"POST\"],[\"POST\"],[\"POST\"],[\"POST\"],[\"POST\"],[\"GET\"],[\"GET\"],[\"POST\"],[\"POST\"],[\"POST\"],[\"POST\"],[\"POST\"],[\"POST\"],[\"POST\"],[\"POST\"],[\"POST\"],[\"POST\"],[\"POST\"],[\"POST\"],[\"POST\"],[\"POST\"],[\"POST\"],[\"GET\"],[\"POST\"],[\"GET\"],[\"GET\"],[\"POST\"],[\"POST\"],[\"POST\"],[\"POST\"],[\"POST\"],[\"POST\"],[\"POST\"],[\"POST\"],[\"POST\"],[\"POST\"],[\"POST\"],[\"POST\"],[\"POST\"],[\"POST\"],[\"POST\"],[\"POST\"],[\"POST\"],[\"GET\"],[\"GET\"],[\"GET\"],[\"GET\"],[\"GET\"],[\"GET\"],[\"GET\"],[\"GET\"],[\"GET\"],[\"GET\"],[\"GET\"],[\"GET\"],[\"GET\"],[\"GET\"],[\"GET\"],[\"GET\"],[\"GET\"],[\"GET\"],[\"GET\"],[\"GET\"],[\"GET\"],[\"GET\"],[\"GET\"],[\"GET\"],[\"GET\"],[\"POST\"],[\"POST\"],[\"POST\"],[\"POST\"],[\"POST\"],[\"POST\"],[\"POST\"],[\"GET\"],[\"POST\"],[\"POST\"],[\"POST\"],[\"POST\"],[\"GET\"],[\"GET\"],[\"GET\"],[\"GET\"],[\"GET\"],[\"POST\"],[\"GET\"],[\"GET\"],[\"GET\"],[\"GET\"],[\"GET\"],[\"GET\"],[\"GET\"],[\"GET\"],[\"POST\"],[\"GET\"],[\"GET\"],[\"GET\"],[\"GET\"],[\"GET\"],[\"GET\"],[\"GET\"],[\"GET\"],[\"GET\"],[\"GET\"],[\"GET\"],[\"GET\"],[\"GET\"],[\"GET\"],[\"GET\"],[\"GET\"],[\"GET\"],[\"GET\"],[\"GET\"],[\"GET\"],[\"GET\"],[\"GET\"],[\"GET\"],[\"GET\"],[\"GET\"],[\"GET\"],[\"GET\"],[\"GET\"],[\"GET\"],[\"GET\"],[\"GET\"],[\"GET\"],[\"GET\"],[\"GET\"],[\"GET\"],[\"GET\"],[\"POST\"],[\"POST\"],[\"POST\"],[\"POST\"],[\"POST\"],[\"POST\"],[\"POST\"],[\"POST\"],[\"POST\"],[\"POST\"],[\"POST\"],[\"POST\"],[\"POST\"],[\"POST\"],[\"POST\"],[\"POST\"],[\"POST\"],[\"POST\"],[\"POST\"],[\"POST\"],[\"POST\"],[\"POST\"],[\"POST\"],[\"POST\"],[\"GET\"],[\"GET\"],[\"GET\"],[\"POST\"],[\"POST\"],[\"GET\"],[\"GET\"],[\"GET\"],[\"POST\"],[\"GET\"],[\"POST\"],[\"GET\"],[\"GET\"],[\"GET\"],[\"GET\"],[\"GET\"],[\"GET\"],[\"POST\"],[\"GET\"],[\"GET\"],[\"POST\"],[\"POST\"],[\"POST\"],[\"POST\"],[\"POST\"],[\"POST\"],[\"POST\"],[\"POST\"],[\"POST\"],[\"POST\"],[\"POST\"],[\"POST\"],[\"POST\"],[\"POST\"],[\"POST\"],[\"POST\"],[\"POST\"],[\"POST\"],[\"POST\"],[\"POST\"],[\"POST\"],[\"POST\"],[\"POST\"],[\"POST\"],[\"POST\"],[\"POST\"],[\"POST\"],[\"POST\"],[\"POST\"],[\"POST\"],[\"POST\"],[\"POST\"],[\"POST\"],[\"POST\"],[\"POST\"],[\"POST\"],[\"POST\"],[\"POST\"],[\"POST\"],[\"POST\"],[\"POST\"],[\"POST\"],[\"POST\"],[\"GET\"],[\"POST\"],[\"GET\"],[\"GET\"],[\"GET\"],[\"GET\"],[\"POST\"],[\"POST\"],[\"POST\"],[\"GET\"],[\"POST\"],[\"GET\"],[\"GET\"],[\"GET\"],[\"GET\"],[\"GET\"],[\"GET\"],[\"GET\"],[\"GET\"],[\"GET\"],[\"POST\"],[\"GET\"],[\"GET\"],[\"GET\"],[\"GET\"],[\"GET\"],[\"GET\"],[\"GET\"],[\"GET\"],[\"GET\"],[\"GET\"],[\"GET\"],[\"GET\"],[\"GET\"],[\"GET\"],[\"GET\"],[\"GET\"],[\"GET\"],[\"GET\"],[\"GET\"],[\"GET\"],[\"GET\"],[\"GET\"],[\"GET\"],[\"POST\"],[\"GET\"],[\"GET\"],[\"GET\"],[\"POST\"],[\"GET\"],[\"POST\"],[\"POST\"],[\"POST\"],[\"POST\"],[\"POST\"],[\"POST\"],[\"POST\"],[\"POST\"],[\"POST\"],[\"POST\"],[\"POST\"],[\"POST\"],[\"POST\"],[\"POST\"],[\"POST\"],[\"POST\"],[\"POST\"],[\"POST\"],[\"GET\"],[\"POST\"],[\"POST\"],[\"GET\"],[\"POST\"],[\"GET\"],[\"GET\"],[\"GET\"],[\"GET\"],[\"GET\"],[\"GET\"],[\"GET\"],[\"GET\"],[\"GET\"],[\"POST\"],[\"POST\"],[\"POST\"],[\"POST\"],[\"POST\"],[\"POST\"],[\"POST\"],[\"POST\"],[\"POST\"],[\"GET\"],[\"GET\"],[\"GET\"],[\"GET\"],[\"GET\"],[\"POST\"],[\"POST\"],[\"GET\"],[\"GET\"],[\"GET\"],[\"GET\"],[\"GET\"],[\"GET\"],[\"GET\"],[\"GET\"],[\"GET\"],[\"GET\"],[\"GET\"],[\"GET\"],[\"GET\"],[\"GET\"],[\"GET\"],[\"GET\"],[\"GET\"],[\"GET\"],[\"GET\"],[\"GET\"],[\"GET\"],[\"GET\"],[\"GET\"],[\"GET\"],[\"GET\"],[\"GET\"],[\"GET\"],[\"GET\"],[\"GET\"],[\"GET\"],[\"GET\"],[\"GET\"],[\"GET\"],[\"GET\"],[\"GET\"],[\"GET\"],[\"GET\"],[\"GET\"],[\"GET\"],[\"POST\"],[\"GET\"],[\"GET\"],[\"GET\"],[\"GET\"],[\"GET\"],[\"GET\"],[\"GET\"],[\"GET\"],[\"GET\"],[\"GET\"],[\"GET\"],[\"GET\"],[\"GET\"],[\"GET\"],[\"POST\"],[\"POST\"],[\"POST\"],[\"GET\"],[\"GET\"],[\"GET\"],[\"GET\"],[\"GET\"],[\"GET\"],[\"GET\"],[\"GET\"],[\"GET\"],[\"GET\"],[\"GET\"],[\"GET\"],[\"GET\"],[\"GET\"],[\"GET\"],[\"GET\"],[\"GET\"],[\"GET\"],[\"GET\"],[\"GET\"],[\"GET\"],[\"GET\"],[\"GET\"],[\"GET\"],[\"GET\"],[\"POST\"],[\"GET\"],[\"GET\"],[\"POST\"],[\"GET\"],[\"GET\"],[\"GET\"],[\"GET\"],[\"GET\"],[\"GET\"],[\"GET\"],[\"GET\"],[\"POST\"],[\"GET\"],[\"GET\"],[\"GET\"],[\"GET\"],[\"GET\"],[\"GET\"],[\"GET\"],[\"GET\"],[\"GET\"],[\"GET\"],[\"GET\"],[\"GET\"],[\"GET\"],[\"GET\"],[\"GET\"],[\"GET\"],[\"GET\"],[\"GET\"],[\"GET\"],[\"GET\"],[\"GET\"],[\"GET\"],[\"GET\"],[\"GET\"],[\"GET\"],[\"GET\"],[\"GET\"],[\"GET\"],[\"GET\"],[\"GET\"],[\"GET\"],[\"GET\"],[\"GET\"],[\"GET\"],[\"POST\"],[\"GET\"],[\"GET\"],[\"GET\"],[\"GET\"],[\"POST\"],[\"GET\"],[\"GET\"],[\"GET\"],[\"GET\"],[\"GET\"],[\"GET\"],[\"GET\"],[\"GET\"],[\"GET\"],[\"GET\"],[\"GET\"],[\"GET\"],[\"GET\"],[\"GET\"],[\"GET\"],[\"GET\"],[\"GET\"],[\"POST\"],[\"GET\"],[\"GET\"],[\"POST\"],[\"GET\"],[\"GET\"],[\"GET\"],[\"GET\"],[\"GET\"],[\"GET\"],[\"POST\"],[\"GET\"],[\"GET\"],[\"GET\"]],\"hovertemplate\":\"Cluster=Cluster 0\\u003cbr\\u003ePCA1=%{x}\\u003cbr\\u003ePCA2=%{y}\\u003cbr\\u003eFeature=%{customdata[0]}\\u003cextra\\u003e\\u003c\\u002fextra\\u003e\",\"legendgroup\":\"Cluster 0\",\"marker\":{\"color\":\"#636efa\",\"opacity\":0.5,\"symbol\":\"circle\"},\"mode\":\"markers\",\"name\":\"Cluster 0\",\"orientation\":\"v\",\"showlegend\":true,\"x\":[-0.9643334905462002,-0.9643334905461967,-0.9643334905461967,-0.9643334905461967,-0.9643334905461967,-0.9643334905461967,-0.9643334905461967,-0.9643334905461967,-0.9643334905461967,-0.9643334905461967,-0.9643334905461967,-0.9643334905461967,-0.9643334905461967,-0.9643334905461967,-0.9643334905461967,-0.9643334905461967,-0.9643334905461967,-0.9643334905461967,-0.9643334905461967,-0.9643334905461967,-0.9643334905461967,-0.9643334905461967,4.061214012392128,-0.8976174510124268,-0.9643334905461967,-0.724418943242681,-0.9309754707793118,-0.9643334905461967,-0.9643334905461967,-0.9643334905461967,-0.9643334905461967,-0.9643334905461967,2.9407386215917946,-0.9643334905461967,-0.9643334905461967,-0.9643334905461967,-0.9643334905461967,-0.9643334905461967,-0.9643334905461967,-0.9643334905461967,-0.9643334905461967,-0.9643334905461967,-0.9643334905461967,-0.9643334905461967,2.9407386215917946,-0.9643334905461967,-0.9643334905461967,-0.9643334905461967,-0.9643334905461967,-0.9643334905461967,-0.9643334905461967,-0.9643334905461967,-0.724418943242681,-0.9643334905461967,-0.9643334905461967,0.018022595252695343,-0.9643334905461967,-0.9643334905461967,4.061214012392128,-0.9643334905461967,-0.9643334905461967,-0.9643334905461967,-0.9643334905461967,4.007039360017763,-0.9643334905461967,-0.9643334905461967,-0.9643334905461967,-0.9643334905461967,-0.9643334905461967,-0.9643334905461967,-0.9643334905461967,-0.9643334905461967,-0.9643334905461967,-0.9643334905461967,-0.9643334905461967,-0.9643334905461967,-0.9643334905461967,4.007039360017763,4.061214012392128,-0.9643334905461967,-0.8976174510124268,-0.9643334905461967,-0.9643334905461967,-0.9643334905461967,-0.9643334905461967,-0.8976174510124268,-0.8976174510124268,-0.9309754707793118,-0.9643334905461967,-0.9643334905461967,-0.9643334905461967,-0.9643334905461967,-0.9643334905461967,-0.724418943242681,-0.724418943242681,-0.724418943242681,-0.724418943242681,4.007039360017763,2.9407386215917946,4.007039360017763,2.9407386215917946,4.061214012392128,4.061214012392128,-0.9309754707793118,-0.9309754707793118,-0.9643334905461967,-0.9643334905461967,-0.9643334905461967,-0.9643334905461967,-0.9643334905461967,-0.9643334905461967,-0.9643334905461967,-0.9643334905461967,-0.9643334905461967,-0.9643334905461967,-0.9643334905461967,-0.9643334905461967,-0.9309754707793118,-0.9643334905461967,-0.9643334905461967,-0.9643334905461967,-0.9643334905461967,-0.9643334905461967,-0.9643334905461967,-0.9643334905461967,-0.9643334905461967,-0.9643334905461967,-0.9643334905461967,-0.8976174510124268,-0.8976174510124268,-0.8976174510124268,-0.8976174510124268,-0.8976174510124268,-0.8976174510124268,-0.9643334905461967,-0.9643334905461967,-0.9643334905461967,-0.9643334905461967,-0.9643334905461967,4.061214012392128,-0.9643334905461967,-0.9643334905461967,-0.9643334905461967,-0.9643334905461967,-0.724418943242681,-0.724418943242681,-0.830832553800848,-0.724418943242681,-0.9309754707793118,-0.9643334905461967,-0.9309754707793118,-0.9643334905461968,-0.724418943242681,-0.9643334905461967,-0.9643334905461967,-0.9643334905461967,-0.9643334905461967,-0.9643334905461967,-0.9643334905461967,-0.9643334905461967,-0.9643334905461967,4.007039360017763,-0.9643334905461967,-0.9643334905461967,-0.9643334905461967,-0.9643334905461967,-0.9643334905461967,-0.724418943242681,-0.724418943242681,-0.724418943242681,-0.830832553800848,-0.9643334905461967,-0.8976174510124268,-0.9643334905461967,2.9407386215917946,-0.9643334905461967,-0.9643334905461967,-0.9643334905461967,-0.9643334905461967,-0.9643334905461967,-0.9643334905461967,-0.9643334905461967,-0.9643334905461967,-0.9643334905461967,-0.9643334905461967,-0.9643334905461967,-0.9643334905461967,-0.9643334905461967,-0.9643334905461967,-0.9643334905461967,-0.9643334905461967,0.018022595252695343,-0.9643334905461967,-0.9643334905461967,-0.9643334905461967,-0.9643334905461967,-0.9643334905461967,-0.8976174510124268,-0.8976174510124268,-0.8976174510124268,-0.8976174510124268,-0.8976174510124268,-0.8976174510124268,-0.8976174510124268,-0.9643334905461967,-0.8976174510124268,-0.8976174510124268,-0.6577029037089112,-0.6577029037089112,-0.9643334905461967,-0.9643334905461967,-0.9643334905461967,-0.9643334905461967,-0.9643334905461967,-0.8976174510124268,-0.9643334905461967,4.061214012392128,-0.9643334905461967,-0.9643334905461967,-0.9643334905461967,-0.9643334905461967,-0.9643334905461967,-0.9643334905461967,-0.9643334905461967,-0.9643334905461967,1.1953553124929255,-0.9643334905461967,-0.9643334905461967,-0.9643334905461968,-0.9643334905461968,-0.9643334905461968,-0.9643334905461968,-0.9643334905461968,-0.9643334905461968,-0.9643334905461968,-0.9643334905461968,-0.9643334905461968,-0.9643334905461967,-0.9643334905461967,-0.9643334905461967,-0.8976174510124268,-0.8976174510124268,-0.9643334905461967,-0.9643334905461967,-0.9643334905461967,-0.9643334905461967,-0.9643334905461967,2.9407386215917946,-0.9643334905461967,-0.9643334905461967,-0.9643334905461967,-0.9643334905461967,-0.9643334905461967,-0.9643334905461967,-0.9643334905461967,-0.9643334905461967,-0.9643334905461967,-0.9643334905461967,-0.9643334905461967,-0.9643334905461967,-0.9643334905461967,-0.8976174510124268,4.061214012392128,-0.04414393370279066,-0.9643334905461967,-0.8976174510124268,-0.9643334905461967,-0.9643334905461967,-0.48450439593916533,-0.48450439593916533,-0.724418943242681,-0.04414393370279066,-0.724418943242681,-0.9643334905461967,-0.9643334905461967,2.9407386215917946,-0.9643334905461967,-0.724418943242681,4.007039360017763,4.061214012392128,-0.8976174510124268,-0.9643334905461967,4.061214012392128,-0.9643334905461967,-0.9643334905461967,-0.9643334905461967,-0.9643334905461967,-0.9643334905461967,-0.9643334905461967,-0.9643334905461967,-0.9643334905461967,-0.9643334905461967,-0.9643334905461967,-0.9643334905461967,-0.8976174510124268,-0.9643334905461967,-0.9643334905461967,-0.9643334905461967,-0.9643334905461967,-0.9643334905461967,-0.9643334905461967,-0.9643334905461967,-0.9643334905461967,-0.9643334905461967,-0.724418943242681,-0.8976174510124268,-0.9643334905461967,-0.8976174510124268,-0.9643334905461967,4.007039360017763,-0.9643334905461967,-0.9643334905461967,-0.724418943242681,4.007039360017763,-0.9643334905461967,-0.9643334905461967,-0.9643334905461967,-0.9643334905461967,-0.9643334905461967,-0.8976174510124268,4.061214012392128,-0.9643334905461967,4.061214012392128,-0.9643334905461967,-0.48450439593916533,4.007039360017763,4.007039360017763,-0.724418943242681,-0.9643334905461967,-0.48450439593916533,-0.9643334905461967,2.9407386215917946,-0.9643334905461967,-0.724418943242681,-0.9643334905461967,-0.9643334905461967,-0.9643334905461967,-0.724418943242681,-0.724418943242681,-0.9643334905461967,-0.9643334905461967,-0.9643334905461967,-0.48450439593916533,2.9407386215917946,2.9407386215917946,-0.724418943242681,2.9407386215917946,-0.9643334905461967,2.9407386215917946,-0.9643334905461967,-0.9643334905461967,-0.9643334905461967,-0.9643334905461967,-0.8976174510124268,-0.8976174510124268,-0.8976174510124268,-0.9643334905461967,-0.8976174510124268,-0.9643334905461967,-0.9643334905461967,-0.9643334905461967,-0.9643334905461967,-0.9643334905461967,-0.9643334905461967,-0.9643334905461967,-0.9643334905461967,-0.9643334905461967,-0.9643334905461967,-0.9643334905461967,-0.724418943242681,-0.9643334905461967,-0.9643334905461967,-0.9643334905461967,-0.9643334905461967,-0.9643334905461967,-0.9643334905461967,-0.9643334905461967,-0.9643334905461967,-0.9643334905461967,-0.9643334905461967,-0.9643334905461967,-0.9643334905461967,-0.9643334905461967,-0.9643334905461967,-0.9643334905461967,-0.9643334905461967,-0.9643334905461967,-0.9643334905461967,-0.9643334905461967,-0.9643334905461967,-0.9643334905461967,-0.9643334905461967,4.007039360017763,4.061214012392128,-0.9643334905461967,-0.4731554476467507,0.018022595252695343,-0.4731554476467507,0.00667364696028077,-0.23324090034323497,3.431916664491241,-0.4731554476467507,-0.23324090034323497,-0.23324090034323497,-0.4731554476467507,4.552392055291575,-0.9643334905461967,-0.9643334905461967,-0.9643334905461967,4.007039360017763,-0.9643334905461967,-0.8976174510124268,-0.9643334905461967,-0.9643334905461967,-0.4731554476467507,-0.9643334905461967,4.498217402917212,-0.4731554476467507,-0.8976174510124268,-0.9309754707793118,-0.724418943242681,-0.9309754707793118,-0.9643334905461967,-0.9643334905461967,2.9407386215917946,-0.9643334905461967,-0.9643334905461967,-0.9643334905461967,-0.9643334905461967,-0.4731554476467507,-0.4731554476467507,-0.406439408112981,-0.406439408112981,0.00667364696028077,-0.4731554476467507,-0.4731554476467507,-0.23324090034323497,-0.4731554476467507,-0.9643334905461967,-0.9643334905461967,-0.9643334905461967,-0.9643334905461967,-0.9643334905461967,-0.9643334905461967,-0.9643334905461967,-0.9643334905461967,-0.9643334905461967,-0.9643334905461967,-0.9643334905461967,-0.9643334905461967,-0.9643334905461967,-0.9643334905461967,-0.9643334905461967,-0.9643334905461967,-0.9643334905461967,-0.9643334905461967,-0.9643334905461967,-0.9643334905461967,-0.9643334905461967,-0.9643334905461967,-0.9643334905461967,-0.9643334905461967,-0.9643334905461967,-0.9643334905461967,-0.9643334905461891,-0.9643334905461967,0.018022595252695343,-0.9643334905461967,-0.9643334905461967,-0.9643334905461967,-0.9643334905461967,-0.9643334905461967,-0.9643334905461967,-0.9643334905461967,-0.9643334905461967,-0.9643334905461967,-0.9643334905461967,-0.9643334905461967,-0.9643334905461967,-0.9643334905461967,-0.9643334905461967,-0.9643334905461967,-0.9643334905461967,-0.9643334905461967,-0.724418943242681,-0.9643334905461967,-0.9643334905461967,-0.9643334905461967,-0.9643334905461967,-0.9643334905461967,-0.9643334905461967,-0.9643334905461967,-0.9643334905461967,-0.9643334905461967,-0.9643334905461967,-0.9643334905461967,-0.9643334905461967,-0.9643334905461967,-0.9643334905461967,-0.9643334905461967,-0.9643334905461967,-0.9643334905461967,-0.9643334905461967,-0.9643334905461967,-0.9643334905461967,-0.9643334905461967,-0.9643334905461967,-0.9643334905461967,-0.9643334905461967,-0.9643334905461967,-0.9643334905461967,-0.9643334905461967,-0.9643334905461967,-0.9643334905461967,-0.9643334905461967,-0.9643334905461967,-0.9643334905461967,-0.9643334905461967,-0.9643334905461967,-0.9643334905461967,-0.9643334905461967,-0.9643334905461967,-0.9643334905461967,-0.9643334905461967,-0.9643334905461967,-0.9643334905461967,-0.9643334905461967,-0.4719630087797594,-0.9643334905461967,-0.9643334905461967,-0.724418943242681,-0.9643334905461968,-0.9643334905461967,-0.9643334905461967,-0.9643334905461967,-0.9643334905461967,-0.9643334905461967,-0.9643334905461967,-0.9643334905461967,-0.8976174510124268,-0.9643334905461967,-0.9643334905461967,-0.9643334905461967,-0.9643334905461967,-0.9643334905461967,-0.9643334905461967,-0.9643334905461967,-0.9643334905461967,-0.9643334905461967,0.018022595252695343,-0.9643334905461967,-0.9643334905461967,-0.9643334905461967,-0.9643334905461967,-0.9643334905461967,-0.9643334905461967,-0.9643334905461967,-0.9643334905461967,-0.9643334905461967,-0.9643334905461967,-0.9643334905461967,-0.9643334905461967,-0.9643334905461967,-0.8976174510124268,-0.9643334905461967,-0.9643334905461967,-0.9643334905461967,4.061214012392128,-0.9643334905461967,-0.9643334905461967,-0.9643334905461967,-0.9643334905461967,-0.8976174510124268,-0.9643334905461967,-0.9643334905461967,-0.9643334905461967,-0.9643334905461967,-0.9643334905461967,-0.9643334905461967,-0.48450439593916533,-0.9643334905461967,-0.9643334905461967,-0.9643334905461967,-0.9643334905461967,-0.9643334905461967,-0.9643334905461967,-0.9643334905461967,-0.9643334905461967,-0.9643334905461967,-0.9643334905461967,-0.9643334905461967,-0.9643334905461967,-0.9643334905461967,-0.9643334905461967,-0.9643334905461967,-0.9643334905461967,-0.9643334905461967,2.9407386215917946,-0.9643334905461967,-0.9643334905461967,4.061214012392128,-0.9643334905461967,-0.9643334905461967,-0.9643334905461967,-0.9643334905461967,-0.9643334905461967,-0.9643334905461967,-0.9643334905461967,2.9407386215917946,-0.9643334905461967,-0.9643334905461967],\"xaxis\":\"x\",\"y\":[-1.5745902111515957,-1.5745902111516015,-1.5745902111516015,-1.5745902111516015,-1.5745902111516015,-1.5745902111516015,-1.5745902111516015,-1.5745902111516015,-1.5745902111516015,-1.5745902111516015,-1.5745902111516015,-1.5745902111516015,-1.5745902111516015,-1.5745902111516015,-1.5745902111516015,-1.5745902111516015,-1.5745902111516015,-1.5745902111516015,-1.5745902111516015,-1.5745902111516015,-1.5745902111516015,-1.5745902111516015,-1.5715645275420846,0.2596002798162349,-1.5745902111516015,-1.2855749733672073,-0.6574949656676833,-1.5745902111516015,-1.5745902111516015,-1.5745902111516015,-1.5745902111516015,-1.5745902111516015,-2.057119836909391,-1.5745902111516015,-1.5745902111516015,-1.5745902111516015,-1.5745902111516015,-1.5745902111516015,-1.5745902111516015,-1.5745902111516015,-1.5745902111516015,-1.5745902111516015,-1.5745902111516015,-1.5745902111516015,-2.057119836909391,-1.5745902111516015,-1.5745902111516015,-1.5745902111516015,-1.5745902111516015,-1.5745902111516015,-1.5745902111516015,-1.5745902111516015,-1.2855749733672073,-1.5745902111516015,-1.5745902111516015,-1.3457432965723586,-1.5745902111516015,-1.5745902111516015,-1.5715645275420846,-1.5745902111516015,-1.5745902111516015,-1.5745902111516015,-1.5745902111516015,-2.263121212231614,-1.5745902111516015,-1.5745902111516015,-1.5745902111516015,-1.5745902111516015,-1.5745902111516015,-1.5745902111516015,-1.5745902111516015,-1.5745902111516015,-1.5745902111516015,-1.5745902111516015,-1.5745902111516015,-1.5745902111516015,-1.5745902111516015,-2.263121212231614,-1.5715645275420846,-1.5745902111516015,0.2596002798162349,-1.5745902111516015,-1.5745902111516015,-1.5745902111516015,-1.5745902111516015,0.2596002798162349,0.2596002798162349,-0.6574949656676833,-1.5745902111516015,-1.5745902111516015,-1.5745902111516015,-1.5745902111516015,-1.5745902111516015,-1.2855749733672073,-1.2855749733672073,-1.2855749733672073,-1.2855749733672073,-2.263121212231614,-2.057119836909391,-2.263121212231614,-2.057119836909391,-1.5715645275420846,-1.5715645275420846,-0.6574949656676833,-0.6574949656676833,-1.5745902111516015,-1.5745902111516015,-1.5745902111516015,-1.5745902111516015,-1.5745902111516015,-1.5745902111516015,-1.5745902111516015,-1.5745902111516015,-1.5745902111516015,-1.5745902111516015,-1.5745902111516015,-1.5745902111516015,-0.6574949656676833,-1.5745902111516015,-1.5745902111516015,-1.5745902111516015,-1.5745902111516015,-1.5745902111516015,-1.5745902111516015,-1.5745902111516015,-1.5745902111516015,-1.5745902111516015,-1.5745902111516015,0.2596002798162349,0.2596002798162349,0.2596002798162349,0.2596002798162349,0.2596002798162349,0.2596002798162349,-1.5745902111516015,-1.5745902111516015,-1.5745902111516015,-1.5745902111516015,-1.5745902111516015,-1.5715645275420846,-1.5745902111516015,-1.5745902111516015,-1.5745902111516015,-1.5745902111516015,-1.2855749733672073,-1.2855749733672073,-1.2571934210870226,-1.2855749733672073,-0.6574949656676833,-1.5745902111516015,-0.6574949656676833,-1.5745902111516017,-1.2855749733672073,-1.5745902111516015,-1.5745902111516015,-1.5745902111516015,-1.5745902111516015,-1.5745902111516015,-1.5745902111516015,-1.5745902111516015,-1.5745902111516015,-2.263121212231614,-1.5745902111516015,-1.5745902111516015,-1.5745902111516015,-1.5745902111516015,-1.5745902111516015,-1.2855749733672073,-1.2855749733672073,-1.2855749733672073,-1.2571934210870226,-1.5745902111516015,0.2596002798162349,-1.5745902111516015,-2.057119836909391,-1.5745902111516015,-1.5745902111516015,-1.5745902111516015,-1.5745902111516015,-1.5745902111516015,-1.5745902111516015,-1.5745902111516015,-1.5745902111516015,-1.5745902111516015,-1.5745902111516015,-1.5745902111516015,-1.5745902111516015,-1.5745902111516015,-1.5745902111516015,-1.5745902111516015,-1.5745902111516015,-1.3457432965723586,-1.5745902111516015,-1.5745902111516015,-1.5745902111516015,-1.5745902111516015,-1.5745902111516015,0.2596002798162349,0.2596002798162349,0.2596002798162349,0.2596002798162349,0.2596002798162349,0.2596002798162349,0.2596002798162349,-1.5745902111516015,0.2596002798162349,0.2596002798162349,0.5486155176006294,0.5486155176006294,-1.5745902111516015,-1.5745902111516015,-1.5745902111516015,-1.5745902111516015,-1.5745902111516015,0.2596002798162349,-1.5745902111516015,-1.5715645275420846,-1.5745902111516015,-1.5745902111516015,-1.5745902111516015,-1.5745902111516015,-1.5745902111516015,-1.5745902111516015,-1.5745902111516015,-1.5745902111516015,-1.6408146194512825,-1.5745902111516015,-1.5745902111516015,-1.5745902111516017,-1.5745902111516017,-1.5745902111516017,-1.5745902111516017,-1.5745902111516017,-1.5745902111516017,-1.5745902111516017,-1.5745902111516017,-1.5745902111516017,-1.5745902111516015,-1.5745902111516015,-1.5745902111516015,0.2596002798162349,0.2596002798162349,-1.5745902111516015,-1.5745902111516015,-1.5745902111516015,-1.5745902111516015,-1.5745902111516015,-2.057119836909391,-1.5745902111516015,-1.5745902111516015,-1.5745902111516015,-1.5745902111516015,-1.5745902111516015,-1.5745902111516015,-1.5745902111516015,-1.5745902111516015,-1.5745902111516015,-1.5745902111516015,-1.5745902111516015,-1.5745902111516015,-1.5745902111516015,0.2596002798162349,-1.5715645275420846,0.11036200905438222,-1.5745902111516015,0.2596002798162349,-1.5745902111516015,-1.5745902111516015,-0.9965597355828127,-0.9965597355828127,-1.2855749733672073,0.11036200905438222,-1.2855749733672073,-1.5745902111516015,-1.5745902111516015,-2.057119836909391,-1.5745902111516015,-1.2855749733672073,-2.263121212231614,-1.5715645275420846,0.2596002798162349,-1.5745902111516015,-1.5715645275420846,-1.5745902111516015,-1.5745902111516015,-1.5745902111516015,-1.5745902111516015,-1.5745902111516015,-1.5745902111516015,-1.5745902111516015,-1.5745902111516015,-1.5745902111516015,-1.5745902111516015,-1.5745902111516015,0.2596002798162349,-1.5745902111516015,-1.5745902111516015,-1.5745902111516015,-1.5745902111516015,-1.5745902111516015,-1.5745902111516015,-1.5745902111516015,-1.5745902111516015,-1.5745902111516015,-1.2855749733672073,0.2596002798162349,-1.5745902111516015,0.2596002798162349,-1.5745902111516015,-2.263121212231614,-1.5745902111516015,-1.5745902111516015,-1.2855749733672073,-2.263121212231614,-1.5745902111516015,-1.5745902111516015,-1.5745902111516015,-1.5745902111516015,-1.5745902111516015,0.2596002798162349,-1.5715645275420846,-1.5745902111516015,-1.5715645275420846,-1.5745902111516015,-0.9965597355828127,-2.263121212231614,-2.263121212231614,-1.2855749733672073,-1.5745902111516015,-0.9965597355828127,-1.5745902111516015,-2.057119836909391,-1.5745902111516015,-1.2855749733672073,-1.5745902111516015,-1.5745902111516015,-1.5745902111516015,-1.2855749733672073,-1.2855749733672073,-1.5745902111516015,-1.5745902111516015,-1.5745902111516015,-0.9965597355828127,-2.057119836909391,-2.057119836909391,-1.2855749733672073,-2.057119836909391,-1.5745902111516015,-2.057119836909391,-1.5745902111516015,-1.5745902111516015,-1.5745902111516015,-1.5745902111516015,0.2596002798162349,0.2596002798162349,0.2596002798162349,-1.5745902111516015,0.2596002798162349,-1.5745902111516015,-1.5745902111516015,-1.5745902111516015,-1.5745902111516015,-1.5745902111516015,-1.5745902111516015,-1.5745902111516015,-1.5745902111516015,-1.5745902111516015,-1.5745902111516015,-1.5745902111516015,-1.2855749733672073,-1.5745902111516015,-1.5745902111516015,-1.5745902111516015,-1.5745902111516015,-1.5745902111516015,-1.5745902111516015,-1.5745902111516015,-1.5745902111516015,-1.5745902111516015,-1.5745902111516015,-1.5745902111516015,-1.5745902111516015,-1.5745902111516015,-1.5745902111516015,-1.5745902111516015,-1.5745902111516015,-1.5745902111516015,-1.5745902111516015,-1.5745902111516015,-1.5745902111516015,-1.5745902111516015,-1.5745902111516015,-2.263121212231614,-1.5715645275420846,-1.5745902111516015,-1.4601667538619802,-1.3457432965723586,-1.4601667538619802,-0.8821362782931911,-1.1711515160775856,-1.9426963796197694,-1.4601667538619802,-1.1711515160775856,-1.1711515160775856,-1.4601667538619802,-1.4571410702524634,-1.5745902111516015,-1.5745902111516015,-1.5745902111516015,-2.263121212231614,-1.5745902111516015,0.2596002798162349,-1.5745902111516015,-1.5745902111516015,-1.4601667538619802,-1.5745902111516015,-2.1486977549419923,-1.4601667538619802,0.2596002798162349,-0.6574949656676833,-1.2855749733672073,-0.6574949656676833,-1.5745902111516015,-1.5745902111516015,-2.057119836909391,-1.5745902111516015,-1.5745902111516015,-1.5745902111516015,-1.5745902111516015,-1.4601667538619802,-1.4601667538619802,0.3740237371058565,0.3740237371058565,-0.8821362782931911,-1.4601667538619802,-1.4601667538619802,-1.1711515160775856,-1.4601667538619802,-1.5745902111516015,-1.5745902111516015,-1.5745902111516015,-1.5745902111516015,-1.5745902111516015,-1.5745902111516015,-1.5745902111516015,-1.5745902111516015,-1.5745902111516015,-1.5745902111516015,-1.5745902111516015,-1.5745902111516015,-1.5745902111516015,-1.5745902111516015,-1.5745902111516015,-1.5745902111516015,-1.5745902111516015,-1.5745902111516015,-1.5745902111516015,-1.5745902111516015,-1.5745902111516015,-1.5745902111516015,-1.5745902111516015,-1.5745902111516015,-1.5745902111516015,-1.5745902111516015,-1.5745902111516012,-1.5745902111516015,-1.3457432965723586,-1.5745902111516015,-1.5745902111516015,-1.5745902111516015,-1.5745902111516015,-1.5745902111516015,-1.5745902111516015,-1.5745902111516015,-1.5745902111516015,-1.5745902111516015,-1.5745902111516015,-1.5745902111516015,-1.5745902111516015,-1.5745902111516015,-1.5745902111516015,-1.5745902111516015,-1.5745902111516015,-1.5745902111516015,-1.2855749733672073,-1.5745902111516015,-1.5745902111516015,-1.5745902111516015,-1.5745902111516015,-1.5745902111516015,-1.5745902111516015,-1.5745902111516015,-1.5745902111516015,-1.5745902111516015,-1.5745902111516015,-1.5745902111516015,-1.5745902111516015,-1.5745902111516015,-1.5745902111516015,-1.5745902111516015,-1.5745902111516015,-1.5745902111516015,-1.5745902111516015,-1.5745902111516015,-1.5745902111516015,-1.5745902111516015,-1.5745902111516015,-1.5745902111516015,-1.5745902111516015,-1.5745902111516015,-1.5745902111516015,-1.5745902111516015,-1.5745902111516015,-1.5745902111516015,-1.5745902111516015,-1.5745902111516015,-1.5745902111516015,-1.5745902111516015,-1.5745902111516015,-1.5745902111516015,-1.5745902111516015,-1.5745902111516015,-1.5745902111516015,-1.5745902111516015,-1.5745902111516015,-1.5745902111516015,-1.5745902111516015,0.14607407069549458,-1.5745902111516015,-1.5745902111516015,-1.2855749733672073,-1.5745902111516017,-1.5745902111516015,-1.5745902111516015,-1.5745902111516015,-1.5745902111516015,-1.5745902111516015,-1.5745902111516015,-1.5745902111516015,0.2596002798162349,-1.5745902111516015,-1.5745902111516015,-1.5745902111516015,-1.5745902111516015,-1.5745902111516015,-1.5745902111516015,-1.5745902111516015,-1.5745902111516015,-1.5745902111516015,-1.3457432965723586,-1.5745902111516015,-1.5745902111516015,-1.5745902111516015,-1.5745902111516015,-1.5745902111516015,-1.5745902111516015,-1.5745902111516015,-1.5745902111516015,-1.5745902111516015,-1.5745902111516015,-1.5745902111516015,-1.5745902111516015,-1.5745902111516015,0.2596002798162349,-1.5745902111516015,-1.5745902111516015,-1.5745902111516015,-1.5715645275420846,-1.5745902111516015,-1.5745902111516015,-1.5745902111516015,-1.5745902111516015,0.2596002798162349,-1.5745902111516015,-1.5745902111516015,-1.5745902111516015,-1.5745902111516015,-1.5745902111516015,-1.5745902111516015,-0.9965597355828127,-1.5745902111516015,-1.5745902111516015,-1.5745902111516015,-1.5745902111516015,-1.5745902111516015,-1.5745902111516015,-1.5745902111516015,-1.5745902111516015,-1.5745902111516015,-1.5745902111516015,-1.5745902111516015,-1.5745902111516015,-1.5745902111516015,-1.5745902111516015,-1.5745902111516015,-1.5745902111516015,-1.5745902111516015,-2.057119836909391,-1.5745902111516015,-1.5745902111516015,-1.5715645275420846,-1.5745902111516015,-1.5745902111516015,-1.5745902111516015,-1.5745902111516015,-1.5745902111516015,-1.5745902111516015,-1.5745902111516015,-2.057119836909391,-1.5745902111516015,-1.5745902111516015],\"yaxis\":\"y\",\"type\":\"scatter\",\"textposition\":\"top center\"},{\"customdata\":[[\"POST\"],[\"POST\"],[\"POST\"],[\"POST\"],[\"POST\"],[\"POST\"],[\"POST\"],[\"POST\"],[\"POST\"],[\"POST\"],[\"POST\"],[\"POST\"],[\"POST\"],[\"POST\"],[\"POST\"],[\"POST\"],[\"POST\"],[\"POST\"],[\"POST\"],[\"POST\"],[\"POST\"],[\"POST\"],[\"POST\"],[\"POST\"],[\"POST\"],[\"POST\"],[\"GET\"],[\"POST\"],[\"GET\"],[\"POST\"],[\"GET\"],[\"POST\"],[\"GET\"],[\"POST\"],[\"GET\"],[\"POST\"],[\"POST\"],[\"POST\"],[\"POST\"],[\"POST\"],[\"GET\"],[\"POST\"],[\"GET\"],[\"GET\"],[\"POST\"],[\"POST\"],[\"POST\"],[\"GET\"],[\"POST\"],[\"POST\"],[\"GET\"],[\"POST\"],[\"POST\"],[\"POST\"],[\"POST\"],[\"POST\"],[\"POST\"],[\"POST\"],[\"POST\"],[\"POST\"],[\"POST\"],[\"POST\"],[\"POST\"],[\"POST\"],[\"POST\"],[\"POST\"],[\"POST\"],[\"POST\"],[\"POST\"],[\"POST\"],[\"POST\"],[\"POST\"],[\"POST\"],[\"POST\"],[\"GET\"],[\"GET\"],[\"GET\"],[\"GET\"],[\"GET\"],[\"GET\"],[\"GET\"],[\"GET\"],[\"GET\"],[\"GET\"],[\"GET\"],[\"GET\"],[\"POST\"],[\"GET\"],[\"POST\"],[\"GET\"],[\"POST\"],[\"POST\"],[\"POST\"],[\"POST\"],[\"POST\"],[\"POST\"],[\"POST\"],[\"POST\"],[\"POST\"],[\"POST\"],[\"POST\"],[\"POST\"],[\"POST\"],[\"POST\"],[\"POST\"],[\"POST\"],[\"POST\"],[\"POST\"],[\"POST\"],[\"POST\"],[\"POST\"],[\"POST\"],[\"POST\"],[\"POST\"],[\"POST\"],[\"POST\"],[\"POST\"],[\"POST\"],[\"POST\"],[\"POST\"],[\"POST\"],[\"GET\"],[\"POST\"],[\"POST\"],[\"POST\"],[\"POST\"],[\"POST\"],[\"POST\"],[\"POST\"],[\"POST\"],[\"POST\"],[\"POST\"],[\"GET\"],[\"POST\"],[\"POST\"],[\"POST\"],[\"POST\"],[\"POST\"],[\"POST\"],[\"POST\"],[\"GET\"],[\"POST\"],[\"GET\"],[\"GET\"],[\"POST\"],[\"POST\"],[\"GET\"],[\"POST\"],[\"POST\"],[\"POST\"],[\"GET\"],[\"GET\"],[\"POST\"],[\"POST\"],[\"POST\"],[\"GET\"],[\"GET\"],[\"POST\"],[\"POST\"],[\"GET\"],[\"GET\"],[\"GET\"],[\"GET\"],[\"GET\"],[\"GET\"],[\"GET\"],[\"GET\"],[\"GET\"],[\"POST\"],[\"POST\"],[\"POST\"],[\"POST\"],[\"POST\"],[\"POST\"],[\"POST\"],[\"GET\"],[\"POST\"],[\"POST\"],[\"POST\"],[\"GET\"],[\"POST\"],[\"GET\"],[\"GET\"],[\"POST\"],[\"GET\"],[\"GET\"],[\"POST\"],[\"POST\"],[\"GET\"],[\"GET\"],[\"POST\"],[\"POST\"],[\"GET\"],[\"POST\"],[\"POST\"],[\"GET\"],[\"GET\"],[\"POST\"],[\"POST\"],[\"POST\"],[\"POST\"],[\"POST\"],[\"POST\"],[\"POST\"],[\"POST\"],[\"POST\"],[\"POST\"],[\"POST\"],[\"POST\"],[\"POST\"],[\"POST\"],[\"POST\"],[\"POST\"],[\"POST\"],[\"POST\"],[\"POST\"],[\"POST\"],[\"POST\"],[\"POST\"],[\"POST\"],[\"GET\"],[\"POST\"],[\"GET\"],[\"POST\"],[\"POST\"],[\"POST\"],[\"POST\"],[\"POST\"],[\"POST\"],[\"POST\"],[\"POST\"],[\"POST\"],[\"POST\"],[\"POST\"],[\"POST\"],[\"POST\"],[\"POST\"],[\"POST\"],[\"POST\"],[\"POST\"],[\"POST\"],[\"POST\"],[\"POST\"],[\"POST\"],[\"POST\"],[\"POST\"],[\"POST\"],[\"POST\"],[\"GET\"],[\"GET\"],[\"GET\"],[\"GET\"],[\"POST\"],[\"GET\"],[\"POST\"],[\"POST\"],[\"POST\"],[\"POST\"],[\"POST\"],[\"POST\"],[\"POST\"],[\"POST\"],[\"POST\"],[\"POST\"],[\"POST\"],[\"POST\"],[\"POST\"],[\"POST\"],[\"POST\"],[\"GET\"],[\"GET\"],[\"GET\"],[\"GET\"],[\"GET\"],[\"GET\"],[\"GET\"],[\"GET\"],[\"GET\"],[\"GET\"],[\"POST\"],[\"POST\"],[\"POST\"],[\"POST\"],[\"POST\"],[\"GET\"],[\"GET\"],[\"GET\"],[\"POST\"],[\"GET\"],[\"GET\"],[\"POST\"],[\"POST\"],[\"POST\"],[\"POST\"],[\"POST\"],[\"POST\"],[\"POST\"],[\"POST\"],[\"POST\"],[\"POST\"],[\"POST\"],[\"POST\"],[\"POST\"],[\"POST\"],[\"POST\"],[\"POST\"],[\"POST\"],[\"POST\"],[\"GET\"],[\"POST\"],[\"POST\"],[\"GET\"]],\"hovertemplate\":\"Cluster=Cluster 1\\u003cbr\\u003ePCA1=%{x}\\u003cbr\\u003ePCA2=%{y}\\u003cbr\\u003eFeature=%{customdata[0]}\\u003cextra\\u003e\\u003c\\u002fextra\\u003e\",\"legendgroup\":\"Cluster 1\",\"marker\":{\"color\":\"#EF553B\",\"opacity\":0.5,\"symbol\":\"circle\"},\"mode\":\"markers\",\"name\":\"Cluster 1\",\"orientation\":\"v\",\"showlegend\":true,\"x\":[0.9798146438235529,0.593559976283733,-0.6224399632389719,1.1133155805689017,-0.6224399632389719,-0.29689766449726196,16.73820074980039,0.9798146438235529,1.1133155805689017,0.593559976283733,-0.6224399632389719,-0.6224399632389719,-0.6224399632389719,-0.6224399632389719,0.46005903953838423,0.593559976283733,0.593559976283733,0.593559976283733,-0.6224399632389719,-0.6224399632389719,0.593559976283733,-0.6224399632389719,-0.6224399632389719,0.593559976283733,-0.7162433289599237,-0.6891560027727416,0.46005903953838423,-0.6224399632389719,-0.8309014114786571,0.46005903953838423,-0.8309014114786571,-0.7162433289599237,-0.8309014114786571,0.593559976283733,-0.8309014114786571,-0.8226569395180904,-0.6891560027727416,0.46005903953838423,0.593559976283733,0.030816577791545934,-0.8226569395180904,1.1133155805689017,-0.8226569395180904,0.46005903953838423,1.1133155805689017,16.73820074980039,1.1133155805689017,1.1133155805689017,-0.8642594312455423,0.46005903953838423,16.73820074980039,-0.6224399632389719,0.46005903953838423,4.073755399551534,0.6602760158175026,4.073755399551534,1.1133155805689017,1.1133155805689017,1.1133155805689017,-0.8226569395180904,-0.8226569395180904,-0.7162433289599237,-0.8226569395180904,-0.7162433289599237,-0.6891560027727416,0.16431751453689478,-0.6891560027727416,0.16431751453689478,-0.6891560027727416,-0.6891560027727416,0.16431751453689478,1.1133155805689017,-0.6891560027727416,1.1133155805689017,1.1133155805689017,1.1133155805689017,1.1133155805689017,0.593559976283733,-0.29689766449726196,-0.29689766449726196,1.1133155805689017,1.1133155805689017,0.593559976283733,-0.29689766449726196,-0.29689766449726196,0.46005903953838423,16.73820074980039,-0.8226569395180904,16.73820074980039,-0.8226569395180904,1.1133155805689017,0.16431751453689478,-0.6891560027727416,-0.29689766449726196,1.1800316201026715,1.1800316201026715,1.1800316201026715,1.1800316201026715,-0.8309014114786571,-0.8309014114786571,-0.8642594312455423,-0.8642594312455423,16.804916789334165,16.804916789334165,16.804916789334165,16.804916789334165,4.127930051925898,4.127930051925898,3.007454661125564,1.1800316201026715,1.1800316201026715,-0.6495272894261539,-0.7559408999843206,-0.29689766449726196,0.46005903953838423,0.6602760158175026,0.6602760158175026,0.6602760158175026,0.6602760158175026,0.6602760158175026,3.007454661125564,-0.8309014114786571,0.5267750790721539,-0.23018162496349226,-0.23018162496349226,-0.6224399632389719,-0.6224399632389719,-0.7559408999843206,-0.6495272894261539,0.5267750790721539,-0.8226569395180904,0.9798146438235529,-0.8309014114786571,1.0477538957118204,0.19428037840218407,0.2609964179359538,-0.6224399632389719,-0.19797795987329547,-0.19797795987329547,0.19428037840218407,0.46005903953838423,1.0477538957118204,0.46005903953838423,0.46005903953838423,0.19428037840218407,0.2609964179359538,-0.8226569395180904,0.9512370824378301,0.2609964179359538,1.4709926867229992,16.73820074980039,0.46005903953838423,0.2609964179359538,-0.6224399632389719,-0.6224399632389719,1.1133155805689017,0.9798146438235529,-0.6224399632389719,-0.6224399632389719,0.9798146438235529,0.46005903953838423,0.9798146438235529,0.46005903953838423,1.1133155805689017,-0.8226569395180904,1.1133155805689017,-0.8226569395180904,1.1133155805689017,-0.6224399632389719,-0.6224399632389719,-0.6224399632389719,0.2609964179359538,0.19428037840218407,-0.6224399632389719,-0.33147889661864427,1.1133155805689017,1.6044936234683478,1.0477538957118204,-0.6891560027727416,-0.7162433289599237,1.1133155805689017,1.1133155805689017,1.1133155805689017,-0.29689766449726196,1.1133155805689017,0.593559976283733,-0.7162433289599237,-0.8226569395180904,0.593559976283733,-0.6891560027727416,0.593559976283733,0.46005903953838423,-0.29689766449726196,1.1133155805689017,16.73820074980039,-0.8226569395180904,0.593559976283733,-0.29689766449726196,-0.6891560027727416,-0.7162433289599237,0.2609964179359538,0.2609964179359538,0.19428037840218407,1.6044936234683478,0.9512370824378301,1.0477538957118204,1.084738019183179,1.4709926867229992,1.4709926867229992,0.2609964179359538,0.2609964179359538,0.2609964179359538,1.6044936234683478,-0.22506528606047743,-0.33147889661864427,0.2609964179359538,0.2609964179359538,0.9512370824378301,-0.8226569395180904,17.229378792699837,1.1133155805689017,-0.6224399632389719,0.593559976283733,16.73820074980039,-0.29689766449726196,-0.8226569395180904,0.46005903953838423,0.9798146438235529,1.1133155805689017,1.1133155805689017,1.1133155805689017,1.1133155805689017,-0.7162433289599237,1.1133155805689017,-0.8226569395180904,0.46005903953838423,1.1133155805689017,0.46005903953838423,-0.8226569395180904,-0.8226569395180904,1.1133155805689017,16.73820074980039,-0.7162433289599237,-0.6891560027727416,0.9798146438235529,-0.7162433289599237,0.593559976283733,1.1133155805689017,-0.8309014114786571,-0.8309014114786571,-0.8309014114786571,-0.8309014114786571,-0.29689766449726196,-0.8309014114786571,-0.6891560027727416,1.1133155805689017,-0.29689766449726196,0.030816577791545934,16.73820074980039,0.46005903953838423,1.1133155805689017,0.46005903953838423,0.46005903953838423,-0.29689766449726196,-0.8226569395180904,-0.7162433289599237,0.16431751453689478,16.73820074980039,0.46005903953838423,-0.8226569395180904,-0.29689766449726196,-0.6891560027727416,0.46005903953838423,0.46005903953838423,0.9798146438235529,0.46005903953838423,0.9798146438235529,0.46005903953838423,0.9798146438235529,0.593559976283733,0.593559976283733,0.593559976283733,-0.6224399632389719,-0.6224399632389719,0.593559976283733,0.593559976283733,0.593559976283733,0.9798146438235529,-0.8309014114786571,-0.7162433289599237,-0.29689766449726196,1.1133155805689017,-0.6891560027727416,1.1133155805689017,1.1133155805689017,1.1133155805689017,-0.4052469692459896,-0.6891560027727416,0.16431751453689478,-0.8226569395180904,-0.6891560027727416,-0.6891560027727416,-0.6891560027727416,0.593559976283733,-0.8226569395180904,-0.29689766449726196,0.16431751453689478,0.16431751453689478,16.73820074980039,-0.6891560027727416,-0.29689766449726196,0.46005903953838423],\"xaxis\":\"x\",\"y\":[1.404713356230614,4.340332488154042,4.393787238929559,1.722110146295194,4.393787238929559,3.3633779310423897,-2.2053226814040094,1.404713356230614,1.722110146295194,4.340332488154042,4.393787238929559,4.393787238929559,4.393787238929559,4.393787238929559,4.022935698089463,4.340332488154042,4.340332488154042,4.340332488154042,4.393787238929559,4.393787238929559,4.340332488154042,4.393787238929559,4.393787238929559,4.340332488154042,2.213818405616957,2.5595967479617228,4.022935698089463,4.393787238929559,2.0937907707840715,4.022935698089463,2.0937907707840715,2.213818405616957,2.0937907707840715,4.340332488154042,2.0937907707840715,2.2421999578971423,2.5595967479617228,4.022935698089463,4.340332488154042,2.0929616871352903,2.2421999578971423,1.722110146295194,2.2421999578971423,4.022935698089463,1.722110146295194,-2.2053226814040094,1.722110146295194,1.722110146295194,1.176695525300153,4.022935698089463,-2.2053226814040094,4.393787238929559,4.022935698089463,-0.42893072126377724,6.174522979121878,-0.42893072126377724,1.722110146295194,1.722110146295194,1.722110146295194,2.2421999578971423,2.2421999578971423,2.213818405616957,2.2421999578971423,2.213818405616957,2.5595967479617228,2.4103584771998694,2.5595967479617228,2.4103584771998694,2.5595967479617228,2.5595967479617228,2.4103584771998694,1.722110146295194,2.5595967479617228,1.722110146295194,1.722110146295194,1.722110146295194,1.722110146295194,4.340332488154042,3.3633779310423897,3.3633779310423897,1.722110146295194,1.722110146295194,4.340332488154042,3.3633779310423897,3.3633779310423897,4.022935698089463,-2.2053226814040094,2.2421999578971423,-2.2053226814040094,2.2421999578971423,1.722110146295194,2.4103584771998694,2.5595967479617228,3.3633779310423897,3.5563006372630315,3.5563006372630315,3.5563006372630315,3.5563006372630315,2.0937907707840715,2.0937907707840715,1.176695525300153,1.176695525300153,-0.3711321904361721,-0.3711321904361721,-0.3711321904361721,-0.3711321904361721,0.2626259634257522,0.2626259634257522,-0.22292934594155422,3.5563006372630315,3.5563006372630315,4.048008896584794,4.076390448864979,3.3633779310423897,4.022935698089463,6.174522979121878,6.174522979121878,6.174522979121878,6.174522979121878,6.174522979121878,-0.22292934594155422,2.0937907707840715,5.857126189057301,5.197568422010227,5.197568422010227,4.393787238929559,4.393787238929559,4.076390448864979,4.048008896584794,5.857126189057301,2.2421999578971423,1.404713356230614,2.0937907707840715,3.3285631175701598,3.477801388332012,5.311991879299848,4.393787238929559,2.6740202052513444,2.6740202052513444,3.477801388332012,4.022935698089463,3.3285631175701598,4.022935698089463,4.022935698089463,3.477801388332012,5.311991879299848,2.2421999578971423,4.137359155379084,5.311991879299848,1.519136813520236,-2.2053226814040094,4.022935698089463,5.311991879299848,4.393787238929559,4.393787238929559,1.722110146295194,1.404713356230614,4.393787238929559,4.393787238929559,1.404713356230614,4.022935698089463,1.404713356230614,4.022935698089463,1.722110146295194,2.2421999578971423,1.722110146295194,2.2421999578971423,1.722110146295194,4.393787238929559,4.393787238929559,4.393787238929559,5.311991879299848,3.477801388332012,4.393787238929559,2.356623415186764,1.722110146295194,1.8365336035848163,3.3285631175701598,2.5595967479617228,2.213818405616957,1.722110146295194,1.722110146295194,1.722110146295194,3.3633779310423897,1.722110146295194,4.340332488154042,2.213818405616957,2.2421999578971423,4.340332488154042,2.5595967479617228,4.340332488154042,4.022935698089463,3.3633779310423897,1.722110146295194,-2.2053226814040094,2.2421999578971423,4.340332488154042,3.3633779310423897,2.5595967479617228,2.213818405616957,5.311991879299848,5.311991879299848,3.477801388332012,1.8365336035848163,4.137359155379084,3.3285631175701598,4.454755945443664,1.519136813520236,1.519136813520236,5.311991879299848,5.311991879299848,5.311991879299848,1.8365336035848163,2.3282418629065793,2.356623415186764,5.311991879299848,5.311991879299848,4.137359155379084,2.2421999578971423,-2.0908992241143878,1.722110146295194,4.393787238929559,4.340332488154042,-2.2053226814040094,3.3633779310423897,2.2421999578971423,4.022935698089463,1.404713356230614,1.722110146295194,1.722110146295194,1.722110146295194,1.722110146295194,2.213818405616957,1.722110146295194,2.2421999578971423,4.022935698089463,1.722110146295194,4.022935698089463,2.2421999578971423,2.2421999578971423,1.722110146295194,-2.2053226814040094,2.213818405616957,2.5595967479617228,1.404713356230614,2.213818405616957,4.340332488154042,1.722110146295194,2.0937907707840715,2.0937907707840715,2.0937907707840715,2.0937907707840715,3.3633779310423897,2.0937907707840715,2.5595967479617228,1.722110146295194,3.3633779310423897,2.0929616871352903,-2.2053226814040094,4.022935698089463,1.722110146295194,4.022935698089463,4.022935698089463,3.3633779310423897,2.2421999578971423,2.213818405616957,2.4103584771998694,-2.2053226814040094,4.022935698089463,2.2421999578971423,3.3633779310423897,2.5595967479617228,4.022935698089463,4.022935698089463,1.404713356230614,4.022935698089463,1.404713356230614,4.022935698089463,1.404713356230614,4.340332488154042,4.340332488154042,4.340332488154042,4.393787238929559,4.393787238929559,4.340332488154042,4.340332488154042,4.340332488154042,1.404713356230614,2.0937907707840715,2.213818405616957,3.3633779310423897,1.722110146295194,2.5595967479617228,1.722110146295194,1.722110146295194,1.722110146295194,1.9802645616633312,2.5595967479617228,2.4103584771998694,2.2421999578971423,2.5595967479617228,2.5595967479617228,2.5595967479617228,4.340332488154042,2.2421999578971423,3.3633779310423897,2.4103584771998694,2.4103584771998694,-2.2053226814040094,2.5595967479617228,3.3633779310423897,4.022935698089463],\"yaxis\":\"y\",\"type\":\"scatter\",\"textposition\":\"top center\"}],                        {\"template\":{\"data\":{\"histogram2dcontour\":[{\"type\":\"histogram2dcontour\",\"colorbar\":{\"outlinewidth\":0,\"ticks\":\"\"},\"colorscale\":[[0.0,\"#0d0887\"],[0.1111111111111111,\"#46039f\"],[0.2222222222222222,\"#7201a8\"],[0.3333333333333333,\"#9c179e\"],[0.4444444444444444,\"#bd3786\"],[0.5555555555555556,\"#d8576b\"],[0.6666666666666666,\"#ed7953\"],[0.7777777777777778,\"#fb9f3a\"],[0.8888888888888888,\"#fdca26\"],[1.0,\"#f0f921\"]]}],\"choropleth\":[{\"type\":\"choropleth\",\"colorbar\":{\"outlinewidth\":0,\"ticks\":\"\"}}],\"histogram2d\":[{\"type\":\"histogram2d\",\"colorbar\":{\"outlinewidth\":0,\"ticks\":\"\"},\"colorscale\":[[0.0,\"#0d0887\"],[0.1111111111111111,\"#46039f\"],[0.2222222222222222,\"#7201a8\"],[0.3333333333333333,\"#9c179e\"],[0.4444444444444444,\"#bd3786\"],[0.5555555555555556,\"#d8576b\"],[0.6666666666666666,\"#ed7953\"],[0.7777777777777778,\"#fb9f3a\"],[0.8888888888888888,\"#fdca26\"],[1.0,\"#f0f921\"]]}],\"heatmap\":[{\"type\":\"heatmap\",\"colorbar\":{\"outlinewidth\":0,\"ticks\":\"\"},\"colorscale\":[[0.0,\"#0d0887\"],[0.1111111111111111,\"#46039f\"],[0.2222222222222222,\"#7201a8\"],[0.3333333333333333,\"#9c179e\"],[0.4444444444444444,\"#bd3786\"],[0.5555555555555556,\"#d8576b\"],[0.6666666666666666,\"#ed7953\"],[0.7777777777777778,\"#fb9f3a\"],[0.8888888888888888,\"#fdca26\"],[1.0,\"#f0f921\"]]}],\"heatmapgl\":[{\"type\":\"heatmapgl\",\"colorbar\":{\"outlinewidth\":0,\"ticks\":\"\"},\"colorscale\":[[0.0,\"#0d0887\"],[0.1111111111111111,\"#46039f\"],[0.2222222222222222,\"#7201a8\"],[0.3333333333333333,\"#9c179e\"],[0.4444444444444444,\"#bd3786\"],[0.5555555555555556,\"#d8576b\"],[0.6666666666666666,\"#ed7953\"],[0.7777777777777778,\"#fb9f3a\"],[0.8888888888888888,\"#fdca26\"],[1.0,\"#f0f921\"]]}],\"contourcarpet\":[{\"type\":\"contourcarpet\",\"colorbar\":{\"outlinewidth\":0,\"ticks\":\"\"}}],\"contour\":[{\"type\":\"contour\",\"colorbar\":{\"outlinewidth\":0,\"ticks\":\"\"},\"colorscale\":[[0.0,\"#0d0887\"],[0.1111111111111111,\"#46039f\"],[0.2222222222222222,\"#7201a8\"],[0.3333333333333333,\"#9c179e\"],[0.4444444444444444,\"#bd3786\"],[0.5555555555555556,\"#d8576b\"],[0.6666666666666666,\"#ed7953\"],[0.7777777777777778,\"#fb9f3a\"],[0.8888888888888888,\"#fdca26\"],[1.0,\"#f0f921\"]]}],\"surface\":[{\"type\":\"surface\",\"colorbar\":{\"outlinewidth\":0,\"ticks\":\"\"},\"colorscale\":[[0.0,\"#0d0887\"],[0.1111111111111111,\"#46039f\"],[0.2222222222222222,\"#7201a8\"],[0.3333333333333333,\"#9c179e\"],[0.4444444444444444,\"#bd3786\"],[0.5555555555555556,\"#d8576b\"],[0.6666666666666666,\"#ed7953\"],[0.7777777777777778,\"#fb9f3a\"],[0.8888888888888888,\"#fdca26\"],[1.0,\"#f0f921\"]]}],\"mesh3d\":[{\"type\":\"mesh3d\",\"colorbar\":{\"outlinewidth\":0,\"ticks\":\"\"}}],\"scatter\":[{\"fillpattern\":{\"fillmode\":\"overlay\",\"size\":10,\"solidity\":0.2},\"type\":\"scatter\"}],\"parcoords\":[{\"type\":\"parcoords\",\"line\":{\"colorbar\":{\"outlinewidth\":0,\"ticks\":\"\"}}}],\"scatterpolargl\":[{\"type\":\"scatterpolargl\",\"marker\":{\"colorbar\":{\"outlinewidth\":0,\"ticks\":\"\"}}}],\"bar\":[{\"error_x\":{\"color\":\"#2a3f5f\"},\"error_y\":{\"color\":\"#2a3f5f\"},\"marker\":{\"line\":{\"color\":\"#E5ECF6\",\"width\":0.5},\"pattern\":{\"fillmode\":\"overlay\",\"size\":10,\"solidity\":0.2}},\"type\":\"bar\"}],\"scattergeo\":[{\"type\":\"scattergeo\",\"marker\":{\"colorbar\":{\"outlinewidth\":0,\"ticks\":\"\"}}}],\"scatterpolar\":[{\"type\":\"scatterpolar\",\"marker\":{\"colorbar\":{\"outlinewidth\":0,\"ticks\":\"\"}}}],\"histogram\":[{\"marker\":{\"pattern\":{\"fillmode\":\"overlay\",\"size\":10,\"solidity\":0.2}},\"type\":\"histogram\"}],\"scattergl\":[{\"type\":\"scattergl\",\"marker\":{\"colorbar\":{\"outlinewidth\":0,\"ticks\":\"\"}}}],\"scatter3d\":[{\"type\":\"scatter3d\",\"line\":{\"colorbar\":{\"outlinewidth\":0,\"ticks\":\"\"}},\"marker\":{\"colorbar\":{\"outlinewidth\":0,\"ticks\":\"\"}}}],\"scattermapbox\":[{\"type\":\"scattermapbox\",\"marker\":{\"colorbar\":{\"outlinewidth\":0,\"ticks\":\"\"}}}],\"scatterternary\":[{\"type\":\"scatterternary\",\"marker\":{\"colorbar\":{\"outlinewidth\":0,\"ticks\":\"\"}}}],\"scattercarpet\":[{\"type\":\"scattercarpet\",\"marker\":{\"colorbar\":{\"outlinewidth\":0,\"ticks\":\"\"}}}],\"carpet\":[{\"aaxis\":{\"endlinecolor\":\"#2a3f5f\",\"gridcolor\":\"white\",\"linecolor\":\"white\",\"minorgridcolor\":\"white\",\"startlinecolor\":\"#2a3f5f\"},\"baxis\":{\"endlinecolor\":\"#2a3f5f\",\"gridcolor\":\"white\",\"linecolor\":\"white\",\"minorgridcolor\":\"white\",\"startlinecolor\":\"#2a3f5f\"},\"type\":\"carpet\"}],\"table\":[{\"cells\":{\"fill\":{\"color\":\"#EBF0F8\"},\"line\":{\"color\":\"white\"}},\"header\":{\"fill\":{\"color\":\"#C8D4E3\"},\"line\":{\"color\":\"white\"}},\"type\":\"table\"}],\"barpolar\":[{\"marker\":{\"line\":{\"color\":\"#E5ECF6\",\"width\":0.5},\"pattern\":{\"fillmode\":\"overlay\",\"size\":10,\"solidity\":0.2}},\"type\":\"barpolar\"}],\"pie\":[{\"automargin\":true,\"type\":\"pie\"}]},\"layout\":{\"autotypenumbers\":\"strict\",\"colorway\":[\"#636efa\",\"#EF553B\",\"#00cc96\",\"#ab63fa\",\"#FFA15A\",\"#19d3f3\",\"#FF6692\",\"#B6E880\",\"#FF97FF\",\"#FECB52\"],\"font\":{\"color\":\"#2a3f5f\"},\"hovermode\":\"closest\",\"hoverlabel\":{\"align\":\"left\"},\"paper_bgcolor\":\"white\",\"plot_bgcolor\":\"#E5ECF6\",\"polar\":{\"bgcolor\":\"#E5ECF6\",\"angularaxis\":{\"gridcolor\":\"white\",\"linecolor\":\"white\",\"ticks\":\"\"},\"radialaxis\":{\"gridcolor\":\"white\",\"linecolor\":\"white\",\"ticks\":\"\"}},\"ternary\":{\"bgcolor\":\"#E5ECF6\",\"aaxis\":{\"gridcolor\":\"white\",\"linecolor\":\"white\",\"ticks\":\"\"},\"baxis\":{\"gridcolor\":\"white\",\"linecolor\":\"white\",\"ticks\":\"\"},\"caxis\":{\"gridcolor\":\"white\",\"linecolor\":\"white\",\"ticks\":\"\"}},\"coloraxis\":{\"colorbar\":{\"outlinewidth\":0,\"ticks\":\"\"}},\"colorscale\":{\"sequential\":[[0.0,\"#0d0887\"],[0.1111111111111111,\"#46039f\"],[0.2222222222222222,\"#7201a8\"],[0.3333333333333333,\"#9c179e\"],[0.4444444444444444,\"#bd3786\"],[0.5555555555555556,\"#d8576b\"],[0.6666666666666666,\"#ed7953\"],[0.7777777777777778,\"#fb9f3a\"],[0.8888888888888888,\"#fdca26\"],[1.0,\"#f0f921\"]],\"sequentialminus\":[[0.0,\"#0d0887\"],[0.1111111111111111,\"#46039f\"],[0.2222222222222222,\"#7201a8\"],[0.3333333333333333,\"#9c179e\"],[0.4444444444444444,\"#bd3786\"],[0.5555555555555556,\"#d8576b\"],[0.6666666666666666,\"#ed7953\"],[0.7777777777777778,\"#fb9f3a\"],[0.8888888888888888,\"#fdca26\"],[1.0,\"#f0f921\"]],\"diverging\":[[0,\"#8e0152\"],[0.1,\"#c51b7d\"],[0.2,\"#de77ae\"],[0.3,\"#f1b6da\"],[0.4,\"#fde0ef\"],[0.5,\"#f7f7f7\"],[0.6,\"#e6f5d0\"],[0.7,\"#b8e186\"],[0.8,\"#7fbc41\"],[0.9,\"#4d9221\"],[1,\"#276419\"]]},\"xaxis\":{\"gridcolor\":\"white\",\"linecolor\":\"white\",\"ticks\":\"\",\"title\":{\"standoff\":15},\"zerolinecolor\":\"white\",\"automargin\":true,\"zerolinewidth\":2},\"yaxis\":{\"gridcolor\":\"white\",\"linecolor\":\"white\",\"ticks\":\"\",\"title\":{\"standoff\":15},\"zerolinecolor\":\"white\",\"automargin\":true,\"zerolinewidth\":2},\"scene\":{\"xaxis\":{\"backgroundcolor\":\"#E5ECF6\",\"gridcolor\":\"white\",\"linecolor\":\"white\",\"showbackground\":true,\"ticks\":\"\",\"zerolinecolor\":\"white\",\"gridwidth\":2},\"yaxis\":{\"backgroundcolor\":\"#E5ECF6\",\"gridcolor\":\"white\",\"linecolor\":\"white\",\"showbackground\":true,\"ticks\":\"\",\"zerolinecolor\":\"white\",\"gridwidth\":2},\"zaxis\":{\"backgroundcolor\":\"#E5ECF6\",\"gridcolor\":\"white\",\"linecolor\":\"white\",\"showbackground\":true,\"ticks\":\"\",\"zerolinecolor\":\"white\",\"gridwidth\":2}},\"shapedefaults\":{\"line\":{\"color\":\"#2a3f5f\"}},\"annotationdefaults\":{\"arrowcolor\":\"#2a3f5f\",\"arrowhead\":0,\"arrowwidth\":1},\"geo\":{\"bgcolor\":\"white\",\"landcolor\":\"#E5ECF6\",\"subunitcolor\":\"white\",\"showland\":true,\"showlakes\":true,\"lakecolor\":\"white\"},\"title\":{\"x\":0.05},\"mapbox\":{\"style\":\"light\"}}},\"xaxis\":{\"anchor\":\"y\",\"domain\":[0.0,1.0],\"title\":{\"text\":\"PCA1\"}},\"yaxis\":{\"anchor\":\"x\",\"domain\":[0.0,1.0],\"title\":{\"text\":\"PCA2\"}},\"legend\":{\"title\":{\"text\":\"Cluster\"},\"tracegroupgap\":0},\"margin\":{\"t\":60},\"plot_bgcolor\":\"rgb(240,240,240)\",\"title\":{\"text\":\"2D Cluster PCA Plot\"},\"height\":600},                        {\"responsive\": true}                    ).then(function(){\n",
       "                            \n",
       "var gd = document.getElementById('60ba3276-22d2-4585-9aad-f6ffe50feaf5');\n",
       "var x = new MutationObserver(function (mutations, observer) {{\n",
       "        var display = window.getComputedStyle(gd).display;\n",
       "        if (!display || display === 'none') {{\n",
       "            console.log([gd, 'removed!']);\n",
       "            Plotly.purge(gd);\n",
       "            observer.disconnect();\n",
       "        }}\n",
       "}});\n",
       "\n",
       "// Listen for the removal of the full notebook cells\n",
       "var notebookContainer = gd.closest('#notebook-container');\n",
       "if (notebookContainer) {{\n",
       "    x.observe(notebookContainer, {childList: true});\n",
       "}}\n",
       "\n",
       "// Listen for the clearing of the current output cell\n",
       "var outputEl = gd.closest('.output');\n",
       "if (outputEl) {{\n",
       "    x.observe(outputEl, {childList: true});\n",
       "}}\n",
       "\n",
       "                        })                };                });            </script>        </div>"
      ]
     },
     "metadata": {},
     "output_type": "display_data"
    }
   ],
   "source": [
    "plot_model(kmeans)"
   ]
  },
  {
   "cell_type": "code",
   "execution_count": null,
   "id": "ca9d52df-84ff-40dc-b17e-f57050fa44f8",
   "metadata": {},
   "outputs": [],
   "source": []
  }
 ],
 "metadata": {
  "kernelspec": {
   "display_name": "Python 3 (ipykernel)",
   "language": "python",
   "name": "python3"
  },
  "language_info": {
   "codemirror_mode": {
    "name": "ipython",
    "version": 3
   },
   "file_extension": ".py",
   "mimetype": "text/x-python",
   "name": "python",
   "nbconvert_exporter": "python",
   "pygments_lexer": "ipython3",
   "version": "3.11.8"
  }
 },
 "nbformat": 4,
 "nbformat_minor": 5
}
